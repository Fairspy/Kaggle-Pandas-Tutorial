{
 "cells": [
  {
   "cell_type": "markdown",
   "id": "605e32a3",
   "metadata": {
    "papermill": {
     "duration": 0.007639,
     "end_time": "2022-06-25T16:36:47.674676",
     "exception": false,
     "start_time": "2022-06-25T16:36:47.667037",
     "status": "completed"
    },
    "tags": []
   },
   "source": [
    "**This notebook is an exercise in the [Pandas](https://www.kaggle.com/learn/pandas) course.  You can reference the tutorial at [this link](https://www.kaggle.com/residentmario/summary-functions-and-maps).**\n",
    "\n",
    "---\n"
   ]
  },
  {
   "cell_type": "markdown",
   "id": "41607527",
   "metadata": {
    "papermill": {
     "duration": 0.00633,
     "end_time": "2022-06-25T16:36:47.688582",
     "exception": false,
     "start_time": "2022-06-25T16:36:47.682252",
     "status": "completed"
    },
    "tags": []
   },
   "source": [
    "# Introduction\n",
    "\n",
    "Now you are ready to get a deeper understanding of your data.\n",
    "\n",
    "Run the following cell to load your data and some utility functions (including code to check your answers)."
   ]
  },
  {
   "cell_type": "code",
   "execution_count": 1,
   "id": "c5fe8906",
   "metadata": {
    "execution": {
     "iopub.execute_input": "2022-06-25T16:36:47.704523Z",
     "iopub.status.busy": "2022-06-25T16:36:47.703778Z",
     "iopub.status.idle": "2022-06-25T16:36:55.803985Z",
     "shell.execute_reply": "2022-06-25T16:36:55.802716Z"
    },
    "papermill": {
     "duration": 8.111163,
     "end_time": "2022-06-25T16:36:55.806481",
     "exception": false,
     "start_time": "2022-06-25T16:36:47.695318",
     "status": "completed"
    },
    "tags": []
   },
   "outputs": [
    {
     "name": "stdout",
     "output_type": "stream",
     "text": [
      "Setup complete.\n"
     ]
    },
    {
     "data": {
      "text/html": [
       "<div>\n",
       "<style scoped>\n",
       "    .dataframe tbody tr th:only-of-type {\n",
       "        vertical-align: middle;\n",
       "    }\n",
       "\n",
       "    .dataframe tbody tr th {\n",
       "        vertical-align: top;\n",
       "    }\n",
       "\n",
       "    .dataframe thead th {\n",
       "        text-align: right;\n",
       "    }\n",
       "</style>\n",
       "<table border=\"1\" class=\"dataframe\">\n",
       "  <thead>\n",
       "    <tr style=\"text-align: right;\">\n",
       "      <th></th>\n",
       "      <th>country</th>\n",
       "      <th>description</th>\n",
       "      <th>designation</th>\n",
       "      <th>points</th>\n",
       "      <th>price</th>\n",
       "      <th>province</th>\n",
       "      <th>region_1</th>\n",
       "      <th>region_2</th>\n",
       "      <th>taster_name</th>\n",
       "      <th>taster_twitter_handle</th>\n",
       "      <th>title</th>\n",
       "      <th>variety</th>\n",
       "      <th>winery</th>\n",
       "    </tr>\n",
       "  </thead>\n",
       "  <tbody>\n",
       "    <tr>\n",
       "      <th>0</th>\n",
       "      <td>Italy</td>\n",
       "      <td>Aromas include tropical fruit, broom, brimston...</td>\n",
       "      <td>Vulkà Bianco</td>\n",
       "      <td>87</td>\n",
       "      <td>NaN</td>\n",
       "      <td>Sicily &amp; Sardinia</td>\n",
       "      <td>Etna</td>\n",
       "      <td>NaN</td>\n",
       "      <td>Kerin O’Keefe</td>\n",
       "      <td>@kerinokeefe</td>\n",
       "      <td>Nicosia 2013 Vulkà Bianco  (Etna)</td>\n",
       "      <td>White Blend</td>\n",
       "      <td>Nicosia</td>\n",
       "    </tr>\n",
       "    <tr>\n",
       "      <th>1</th>\n",
       "      <td>Portugal</td>\n",
       "      <td>This is ripe and fruity, a wine that is smooth...</td>\n",
       "      <td>Avidagos</td>\n",
       "      <td>87</td>\n",
       "      <td>15.0</td>\n",
       "      <td>Douro</td>\n",
       "      <td>NaN</td>\n",
       "      <td>NaN</td>\n",
       "      <td>Roger Voss</td>\n",
       "      <td>@vossroger</td>\n",
       "      <td>Quinta dos Avidagos 2011 Avidagos Red (Douro)</td>\n",
       "      <td>Portuguese Red</td>\n",
       "      <td>Quinta dos Avidagos</td>\n",
       "    </tr>\n",
       "    <tr>\n",
       "      <th>2</th>\n",
       "      <td>US</td>\n",
       "      <td>Tart and snappy, the flavors of lime flesh and...</td>\n",
       "      <td>NaN</td>\n",
       "      <td>87</td>\n",
       "      <td>14.0</td>\n",
       "      <td>Oregon</td>\n",
       "      <td>Willamette Valley</td>\n",
       "      <td>Willamette Valley</td>\n",
       "      <td>Paul Gregutt</td>\n",
       "      <td>@paulgwine</td>\n",
       "      <td>Rainstorm 2013 Pinot Gris (Willamette Valley)</td>\n",
       "      <td>Pinot Gris</td>\n",
       "      <td>Rainstorm</td>\n",
       "    </tr>\n",
       "    <tr>\n",
       "      <th>3</th>\n",
       "      <td>US</td>\n",
       "      <td>Pineapple rind, lemon pith and orange blossom ...</td>\n",
       "      <td>Reserve Late Harvest</td>\n",
       "      <td>87</td>\n",
       "      <td>13.0</td>\n",
       "      <td>Michigan</td>\n",
       "      <td>Lake Michigan Shore</td>\n",
       "      <td>NaN</td>\n",
       "      <td>Alexander Peartree</td>\n",
       "      <td>NaN</td>\n",
       "      <td>St. Julian 2013 Reserve Late Harvest Riesling ...</td>\n",
       "      <td>Riesling</td>\n",
       "      <td>St. Julian</td>\n",
       "    </tr>\n",
       "    <tr>\n",
       "      <th>4</th>\n",
       "      <td>US</td>\n",
       "      <td>Much like the regular bottling from 2012, this...</td>\n",
       "      <td>Vintner's Reserve Wild Child Block</td>\n",
       "      <td>87</td>\n",
       "      <td>65.0</td>\n",
       "      <td>Oregon</td>\n",
       "      <td>Willamette Valley</td>\n",
       "      <td>Willamette Valley</td>\n",
       "      <td>Paul Gregutt</td>\n",
       "      <td>@paulgwine</td>\n",
       "      <td>Sweet Cheeks 2012 Vintner's Reserve Wild Child...</td>\n",
       "      <td>Pinot Noir</td>\n",
       "      <td>Sweet Cheeks</td>\n",
       "    </tr>\n",
       "  </tbody>\n",
       "</table>\n",
       "</div>"
      ],
      "text/plain": [
       "    country                                        description  \\\n",
       "0     Italy  Aromas include tropical fruit, broom, brimston...   \n",
       "1  Portugal  This is ripe and fruity, a wine that is smooth...   \n",
       "2        US  Tart and snappy, the flavors of lime flesh and...   \n",
       "3        US  Pineapple rind, lemon pith and orange blossom ...   \n",
       "4        US  Much like the regular bottling from 2012, this...   \n",
       "\n",
       "                          designation  points  price           province  \\\n",
       "0                        Vulkà Bianco      87    NaN  Sicily & Sardinia   \n",
       "1                            Avidagos      87   15.0              Douro   \n",
       "2                                 NaN      87   14.0             Oregon   \n",
       "3                Reserve Late Harvest      87   13.0           Michigan   \n",
       "4  Vintner's Reserve Wild Child Block      87   65.0             Oregon   \n",
       "\n",
       "              region_1           region_2         taster_name  \\\n",
       "0                 Etna                NaN       Kerin O’Keefe   \n",
       "1                  NaN                NaN          Roger Voss   \n",
       "2    Willamette Valley  Willamette Valley        Paul Gregutt   \n",
       "3  Lake Michigan Shore                NaN  Alexander Peartree   \n",
       "4    Willamette Valley  Willamette Valley        Paul Gregutt   \n",
       "\n",
       "  taster_twitter_handle                                              title  \\\n",
       "0          @kerinokeefe                  Nicosia 2013 Vulkà Bianco  (Etna)   \n",
       "1            @vossroger      Quinta dos Avidagos 2011 Avidagos Red (Douro)   \n",
       "2           @paulgwine       Rainstorm 2013 Pinot Gris (Willamette Valley)   \n",
       "3                   NaN  St. Julian 2013 Reserve Late Harvest Riesling ...   \n",
       "4           @paulgwine   Sweet Cheeks 2012 Vintner's Reserve Wild Child...   \n",
       "\n",
       "          variety               winery  \n",
       "0     White Blend              Nicosia  \n",
       "1  Portuguese Red  Quinta dos Avidagos  \n",
       "2      Pinot Gris            Rainstorm  \n",
       "3        Riesling           St. Julian  \n",
       "4      Pinot Noir         Sweet Cheeks  "
      ]
     },
     "execution_count": 1,
     "metadata": {},
     "output_type": "execute_result"
    }
   ],
   "source": [
    "import pandas as pd\n",
    "pd.set_option(\"display.max_rows\", 5)\n",
    "reviews = pd.read_csv(\"../input/wine-reviews/winemag-data-130k-v2.csv\", index_col=0)\n",
    "\n",
    "from learntools.core import binder; binder.bind(globals())\n",
    "from learntools.pandas.summary_functions_and_maps import *\n",
    "print(\"Setup complete.\")\n",
    "\n",
    "reviews.head()"
   ]
  },
  {
   "cell_type": "markdown",
   "id": "7a707a1a",
   "metadata": {
    "papermill": {
     "duration": 0.007014,
     "end_time": "2022-06-25T16:36:55.820729",
     "exception": false,
     "start_time": "2022-06-25T16:36:55.813715",
     "status": "completed"
    },
    "tags": []
   },
   "source": [
    "# Exercises"
   ]
  },
  {
   "cell_type": "markdown",
   "id": "a7dbf6e3",
   "metadata": {
    "papermill": {
     "duration": 0.006873,
     "end_time": "2022-06-25T16:36:55.834757",
     "exception": false,
     "start_time": "2022-06-25T16:36:55.827884",
     "status": "completed"
    },
    "tags": []
   },
   "source": [
    "## 1.\n",
    "\n",
    "What is the median of the `points` column in the `reviews` DataFrame?"
   ]
  },
  {
   "cell_type": "code",
   "execution_count": 2,
   "id": "1063ea5c",
   "metadata": {
    "execution": {
     "iopub.execute_input": "2022-06-25T16:36:55.851086Z",
     "iopub.status.busy": "2022-06-25T16:36:55.850432Z",
     "iopub.status.idle": "2022-06-25T16:36:55.862096Z",
     "shell.execute_reply": "2022-06-25T16:36:55.861075Z"
    },
    "papermill": {
     "duration": 0.022529,
     "end_time": "2022-06-25T16:36:55.864417",
     "exception": false,
     "start_time": "2022-06-25T16:36:55.841888",
     "status": "completed"
    },
    "tags": []
   },
   "outputs": [
    {
     "data": {
      "application/javascript": [
       "parent.postMessage({\"jupyterEvent\": \"custom.exercise_interaction\", \"data\": {\"outcomeType\": 1, \"valueTowardsCompletion\": 0.14285714285714285, \"interactionType\": 1, \"questionType\": 1, \"questionId\": \"1_MedianPoints\", \"learnToolsVersion\": \"0.3.4\", \"failureMessage\": \"\", \"exceptionClass\": \"\", \"trace\": \"\"}}, \"*\")"
      ],
      "text/plain": [
       "<IPython.core.display.Javascript object>"
      ]
     },
     "metadata": {},
     "output_type": "display_data"
    },
    {
     "data": {
      "text/markdown": [
       "<span style=\"color:#33cc33\">Correct</span>"
      ],
      "text/plain": [
       "Correct"
      ]
     },
     "metadata": {},
     "output_type": "display_data"
    }
   ],
   "source": [
    "median_points = reviews.points.median()\n",
    "\n",
    "# Check your answer\n",
    "q1.check()"
   ]
  },
  {
   "cell_type": "code",
   "execution_count": 3,
   "id": "5f597eaf",
   "metadata": {
    "execution": {
     "iopub.execute_input": "2022-06-25T16:36:55.881405Z",
     "iopub.status.busy": "2022-06-25T16:36:55.880975Z",
     "iopub.status.idle": "2022-06-25T16:36:55.885422Z",
     "shell.execute_reply": "2022-06-25T16:36:55.884295Z"
    },
    "papermill": {
     "duration": 0.015664,
     "end_time": "2022-06-25T16:36:55.887737",
     "exception": false,
     "start_time": "2022-06-25T16:36:55.872073",
     "status": "completed"
    },
    "tags": []
   },
   "outputs": [],
   "source": [
    "#q1.hint()\n",
    "#q1.solution()"
   ]
  },
  {
   "cell_type": "markdown",
   "id": "67b23218",
   "metadata": {
    "papermill": {
     "duration": 0.007114,
     "end_time": "2022-06-25T16:36:55.902387",
     "exception": false,
     "start_time": "2022-06-25T16:36:55.895273",
     "status": "completed"
    },
    "tags": []
   },
   "source": [
    "## 2. \n",
    "What countries are represented in the dataset? (Your answer should not include any duplicates.)"
   ]
  },
  {
   "cell_type": "code",
   "execution_count": 4,
   "id": "6c7daa4b",
   "metadata": {
    "execution": {
     "iopub.execute_input": "2022-06-25T16:36:55.918983Z",
     "iopub.status.busy": "2022-06-25T16:36:55.918559Z",
     "iopub.status.idle": "2022-06-25T16:36:55.940412Z",
     "shell.execute_reply": "2022-06-25T16:36:55.939272Z"
    },
    "papermill": {
     "duration": 0.033076,
     "end_time": "2022-06-25T16:36:55.942798",
     "exception": false,
     "start_time": "2022-06-25T16:36:55.909722",
     "status": "completed"
    },
    "tags": []
   },
   "outputs": [
    {
     "data": {
      "application/javascript": [
       "parent.postMessage({\"jupyterEvent\": \"custom.exercise_interaction\", \"data\": {\"outcomeType\": 1, \"valueTowardsCompletion\": 0.14285714285714285, \"interactionType\": 1, \"questionType\": 2, \"questionId\": \"2_UniqueCountries\", \"learnToolsVersion\": \"0.3.4\", \"failureMessage\": \"\", \"exceptionClass\": \"\", \"trace\": \"\"}}, \"*\")"
      ],
      "text/plain": [
       "<IPython.core.display.Javascript object>"
      ]
     },
     "metadata": {},
     "output_type": "display_data"
    },
    {
     "data": {
      "text/markdown": [
       "<span style=\"color:#33cc33\">Correct</span>"
      ],
      "text/plain": [
       "Correct"
      ]
     },
     "metadata": {},
     "output_type": "display_data"
    }
   ],
   "source": [
    "countries = reviews.country.unique()\n",
    "\n",
    "# Check your answer\n",
    "q2.check()"
   ]
  },
  {
   "cell_type": "code",
   "execution_count": 5,
   "id": "dad7364b",
   "metadata": {
    "execution": {
     "iopub.execute_input": "2022-06-25T16:36:55.961423Z",
     "iopub.status.busy": "2022-06-25T16:36:55.960978Z",
     "iopub.status.idle": "2022-06-25T16:36:55.965501Z",
     "shell.execute_reply": "2022-06-25T16:36:55.964268Z"
    },
    "papermill": {
     "duration": 0.017369,
     "end_time": "2022-06-25T16:36:55.968000",
     "exception": false,
     "start_time": "2022-06-25T16:36:55.950631",
     "status": "completed"
    },
    "tags": []
   },
   "outputs": [],
   "source": [
    "#q2.hint()\n",
    "#q2.solution()"
   ]
  },
  {
   "cell_type": "markdown",
   "id": "06a483e1",
   "metadata": {
    "papermill": {
     "duration": 0.007825,
     "end_time": "2022-06-25T16:36:55.983627",
     "exception": false,
     "start_time": "2022-06-25T16:36:55.975802",
     "status": "completed"
    },
    "tags": []
   },
   "source": [
    "## 3.\n",
    "How often does each country appear in the dataset? Create a Series `reviews_per_country` mapping countries to the count of reviews of wines from that country."
   ]
  },
  {
   "cell_type": "code",
   "execution_count": 6,
   "id": "99a045c9",
   "metadata": {
    "execution": {
     "iopub.execute_input": "2022-06-25T16:36:56.002090Z",
     "iopub.status.busy": "2022-06-25T16:36:56.001301Z",
     "iopub.status.idle": "2022-06-25T16:36:56.030495Z",
     "shell.execute_reply": "2022-06-25T16:36:56.029521Z"
    },
    "papermill": {
     "duration": 0.040971,
     "end_time": "2022-06-25T16:36:56.032760",
     "exception": false,
     "start_time": "2022-06-25T16:36:55.991789",
     "status": "completed"
    },
    "tags": []
   },
   "outputs": [
    {
     "data": {
      "application/javascript": [
       "parent.postMessage({\"jupyterEvent\": \"custom.exercise_interaction\", \"data\": {\"outcomeType\": 1, \"valueTowardsCompletion\": 0.14285714285714285, \"interactionType\": 1, \"questionType\": 1, \"questionId\": \"3_ReviewsPerCountry\", \"learnToolsVersion\": \"0.3.4\", \"failureMessage\": \"\", \"exceptionClass\": \"\", \"trace\": \"\"}}, \"*\")"
      ],
      "text/plain": [
       "<IPython.core.display.Javascript object>"
      ]
     },
     "metadata": {},
     "output_type": "display_data"
    },
    {
     "data": {
      "text/markdown": [
       "<span style=\"color:#33cc33\">Correct</span>"
      ],
      "text/plain": [
       "Correct"
      ]
     },
     "metadata": {},
     "output_type": "display_data"
    }
   ],
   "source": [
    "reviews_per_country = reviews.country.value_counts()\n",
    "\n",
    "# Check your answer\n",
    "q3.check()"
   ]
  },
  {
   "cell_type": "code",
   "execution_count": 7,
   "id": "7d97b050",
   "metadata": {
    "execution": {
     "iopub.execute_input": "2022-06-25T16:36:56.051589Z",
     "iopub.status.busy": "2022-06-25T16:36:56.050817Z",
     "iopub.status.idle": "2022-06-25T16:36:56.055388Z",
     "shell.execute_reply": "2022-06-25T16:36:56.054588Z"
    },
    "papermill": {
     "duration": 0.01641,
     "end_time": "2022-06-25T16:36:56.057613",
     "exception": false,
     "start_time": "2022-06-25T16:36:56.041203",
     "status": "completed"
    },
    "tags": []
   },
   "outputs": [],
   "source": [
    "#q3.hint()\n",
    "#q3.solution()"
   ]
  },
  {
   "cell_type": "markdown",
   "id": "5340045e",
   "metadata": {
    "papermill": {
     "duration": 0.007741,
     "end_time": "2022-06-25T16:36:56.074025",
     "exception": false,
     "start_time": "2022-06-25T16:36:56.066284",
     "status": "completed"
    },
    "tags": []
   },
   "source": [
    "## 4.\n",
    "Create variable `centered_price` containing a version of the `price` column with the mean price subtracted.\n",
    "\n",
    "(Note: this 'centering' transformation is a common preprocessing step before applying various machine learning algorithms.) "
   ]
  },
  {
   "cell_type": "code",
   "execution_count": 8,
   "id": "de3e64f1",
   "metadata": {
    "execution": {
     "iopub.execute_input": "2022-06-25T16:36:56.092483Z",
     "iopub.status.busy": "2022-06-25T16:36:56.092054Z",
     "iopub.status.idle": "2022-06-25T16:36:56.202378Z",
     "shell.execute_reply": "2022-06-25T16:36:56.201121Z"
    },
    "papermill": {
     "duration": 0.123388,
     "end_time": "2022-06-25T16:36:56.205443",
     "exception": false,
     "start_time": "2022-06-25T16:36:56.082055",
     "status": "completed"
    },
    "tags": []
   },
   "outputs": [
    {
     "data": {
      "application/javascript": [
       "parent.postMessage({\"jupyterEvent\": \"custom.exercise_interaction\", \"data\": {\"outcomeType\": 1, \"valueTowardsCompletion\": 0.14285714285714285, \"interactionType\": 1, \"questionType\": 1, \"questionId\": \"4_CenteredPrice\", \"learnToolsVersion\": \"0.3.4\", \"failureMessage\": \"\", \"exceptionClass\": \"\", \"trace\": \"\"}}, \"*\")"
      ],
      "text/plain": [
       "<IPython.core.display.Javascript object>"
      ]
     },
     "metadata": {},
     "output_type": "display_data"
    },
    {
     "data": {
      "text/markdown": [
       "<span style=\"color:#33cc33\">Correct</span>"
      ],
      "text/plain": [
       "Correct"
      ]
     },
     "metadata": {},
     "output_type": "display_data"
    }
   ],
   "source": [
    "price_mean = reviews.price.mean()\n",
    "centered_price = reviews.price.map(lambda x: x - price_mean)\n",
    "\n",
    "# Check your answer\n",
    "q4.check()"
   ]
  },
  {
   "cell_type": "code",
   "execution_count": 9,
   "id": "b6104208",
   "metadata": {
    "execution": {
     "iopub.execute_input": "2022-06-25T16:36:56.227817Z",
     "iopub.status.busy": "2022-06-25T16:36:56.227453Z",
     "iopub.status.idle": "2022-06-25T16:36:56.232623Z",
     "shell.execute_reply": "2022-06-25T16:36:56.231351Z"
    },
    "papermill": {
     "duration": 0.017663,
     "end_time": "2022-06-25T16:36:56.235170",
     "exception": false,
     "start_time": "2022-06-25T16:36:56.217507",
     "status": "completed"
    },
    "tags": []
   },
   "outputs": [],
   "source": [
    "#q4.hint()\n",
    "#q4.solution()"
   ]
  },
  {
   "cell_type": "markdown",
   "id": "462f87bc",
   "metadata": {
    "papermill": {
     "duration": 0.008404,
     "end_time": "2022-06-25T16:36:56.252319",
     "exception": false,
     "start_time": "2022-06-25T16:36:56.243915",
     "status": "completed"
    },
    "tags": []
   },
   "source": [
    "## 5.\n",
    "I'm an economical wine buyer. Which wine is the \"best bargain\"? Create a variable `bargain_wine` with the title of the wine with the highest points-to-price ratio in the dataset."
   ]
  },
  {
   "cell_type": "code",
   "execution_count": 10,
   "id": "72d444e6",
   "metadata": {
    "execution": {
     "iopub.execute_input": "2022-06-25T16:36:56.271972Z",
     "iopub.status.busy": "2022-06-25T16:36:56.271545Z",
     "iopub.status.idle": "2022-06-25T16:36:56.285962Z",
     "shell.execute_reply": "2022-06-25T16:36:56.284940Z"
    },
    "papermill": {
     "duration": 0.027022,
     "end_time": "2022-06-25T16:36:56.288201",
     "exception": false,
     "start_time": "2022-06-25T16:36:56.261179",
     "status": "completed"
    },
    "tags": []
   },
   "outputs": [
    {
     "data": {
      "application/javascript": [
       "parent.postMessage({\"jupyterEvent\": \"custom.exercise_interaction\", \"data\": {\"outcomeType\": 1, \"valueTowardsCompletion\": 0.14285714285714285, \"interactionType\": 1, \"questionType\": 2, \"questionId\": \"5_BargainWine\", \"learnToolsVersion\": \"0.3.4\", \"failureMessage\": \"\", \"exceptionClass\": \"\", \"trace\": \"\"}}, \"*\")"
      ],
      "text/plain": [
       "<IPython.core.display.Javascript object>"
      ]
     },
     "metadata": {},
     "output_type": "display_data"
    },
    {
     "data": {
      "text/markdown": [
       "<span style=\"color:#33cc33\">Correct</span>"
      ],
      "text/plain": [
       "Correct"
      ]
     },
     "metadata": {},
     "output_type": "display_data"
    }
   ],
   "source": [
    "idx = (reviews.points/reviews.price).idxmax()\n",
    "bargain_wine = reviews.loc[idx,'title']\n",
    "\n",
    "# Check your answer\n",
    "q5.check()"
   ]
  },
  {
   "cell_type": "code",
   "execution_count": 11,
   "id": "4d80e5ef",
   "metadata": {
    "execution": {
     "iopub.execute_input": "2022-06-25T16:36:56.309001Z",
     "iopub.status.busy": "2022-06-25T16:36:56.307779Z",
     "iopub.status.idle": "2022-06-25T16:36:56.312235Z",
     "shell.execute_reply": "2022-06-25T16:36:56.311206Z"
    },
    "papermill": {
     "duration": 0.017002,
     "end_time": "2022-06-25T16:36:56.314413",
     "exception": false,
     "start_time": "2022-06-25T16:36:56.297411",
     "status": "completed"
    },
    "tags": []
   },
   "outputs": [],
   "source": [
    "#q5.hint()\n",
    "#q5.solution()"
   ]
  },
  {
   "cell_type": "markdown",
   "id": "b4b7e1fe",
   "metadata": {
    "papermill": {
     "duration": 0.009017,
     "end_time": "2022-06-25T16:36:56.332316",
     "exception": false,
     "start_time": "2022-06-25T16:36:56.323299",
     "status": "completed"
    },
    "tags": []
   },
   "source": [
    "## 6.\n",
    "There are only so many words you can use when describing a bottle of wine. Is a wine more likely to be \"tropical\" or \"fruity\"? Create a Series `descriptor_counts` counting how many times each of these two words appears in the `description` column in the dataset. (For simplicity, let's ignore the capitalized versions of these words.)"
   ]
  },
  {
   "cell_type": "code",
   "execution_count": 12,
   "id": "d29c83b4",
   "metadata": {
    "execution": {
     "iopub.execute_input": "2022-06-25T16:36:56.351721Z",
     "iopub.status.busy": "2022-06-25T16:36:56.350955Z",
     "iopub.status.idle": "2022-06-25T16:36:56.506259Z",
     "shell.execute_reply": "2022-06-25T16:36:56.505049Z"
    },
    "papermill": {
     "duration": 0.167555,
     "end_time": "2022-06-25T16:36:56.508475",
     "exception": false,
     "start_time": "2022-06-25T16:36:56.340920",
     "status": "completed"
    },
    "tags": []
   },
   "outputs": [
    {
     "data": {
      "application/javascript": [
       "parent.postMessage({\"jupyterEvent\": \"custom.exercise_interaction\", \"data\": {\"outcomeType\": 1, \"valueTowardsCompletion\": 0.14285714285714285, \"interactionType\": 1, \"questionType\": 1, \"questionId\": \"6_DescriptorCounts\", \"learnToolsVersion\": \"0.3.4\", \"failureMessage\": \"\", \"exceptionClass\": \"\", \"trace\": \"\"}}, \"*\")"
      ],
      "text/plain": [
       "<IPython.core.display.Javascript object>"
      ]
     },
     "metadata": {},
     "output_type": "display_data"
    },
    {
     "data": {
      "text/markdown": [
       "<span style=\"color:#33cc33\">Correct</span>"
      ],
      "text/plain": [
       "Correct"
      ]
     },
     "metadata": {},
     "output_type": "display_data"
    }
   ],
   "source": [
    "num_trop = reviews.description.map(lambda x: \"tropical\" in x).sum()\n",
    "num_fruity = reviews.description.map(lambda x : \"fruity\" in x).sum()\n",
    "descriptor_counts = pd.Series([num_trop, num_fruity], index = [\"tropical\",\"fruity\"])\n",
    "\n",
    "# Check your answer\n",
    "q6.check()"
   ]
  },
  {
   "cell_type": "code",
   "execution_count": 13,
   "id": "95e24ed6",
   "metadata": {
    "execution": {
     "iopub.execute_input": "2022-06-25T16:36:56.529915Z",
     "iopub.status.busy": "2022-06-25T16:36:56.528686Z",
     "iopub.status.idle": "2022-06-25T16:36:56.535309Z",
     "shell.execute_reply": "2022-06-25T16:36:56.533939Z"
    },
    "papermill": {
     "duration": 0.020191,
     "end_time": "2022-06-25T16:36:56.538232",
     "exception": false,
     "start_time": "2022-06-25T16:36:56.518041",
     "status": "completed"
    },
    "tags": []
   },
   "outputs": [],
   "source": [
    "#q6.hint()\n",
    "#q6.solution()"
   ]
  },
  {
   "cell_type": "markdown",
   "id": "f4451910",
   "metadata": {
    "papermill": {
     "duration": 0.009095,
     "end_time": "2022-06-25T16:36:56.556734",
     "exception": false,
     "start_time": "2022-06-25T16:36:56.547639",
     "status": "completed"
    },
    "tags": []
   },
   "source": [
    "## 7.\n",
    "We'd like to host these wine reviews on our website, but a rating system ranging from 80 to 100 points is too hard to understand - we'd like to translate them into simple star ratings. A score of 95 or higher counts as 3 stars, a score of at least 85 but less than 95 is 2 stars. Any other score is 1 star.\n",
    "\n",
    "Also, the Canadian Vintners Association bought a lot of ads on the site, so any wines from Canada should automatically get 3 stars, regardless of points.\n",
    "\n",
    "Create a series `star_ratings` with the number of stars corresponding to each review in the dataset."
   ]
  },
  {
   "cell_type": "code",
   "execution_count": 14,
   "id": "e3a9eaa8",
   "metadata": {
    "execution": {
     "iopub.execute_input": "2022-06-25T16:36:56.576521Z",
     "iopub.status.busy": "2022-06-25T16:36:56.576145Z",
     "iopub.status.idle": "2022-06-25T16:37:01.637870Z",
     "shell.execute_reply": "2022-06-25T16:37:01.636495Z"
    },
    "papermill": {
     "duration": 5.074681,
     "end_time": "2022-06-25T16:37:01.640498",
     "exception": false,
     "start_time": "2022-06-25T16:36:56.565817",
     "status": "completed"
    },
    "tags": []
   },
   "outputs": [
    {
     "data": {
      "application/javascript": [
       "parent.postMessage({\"jupyterEvent\": \"custom.exercise_interaction\", \"data\": {\"outcomeType\": 1, \"valueTowardsCompletion\": 0.14285714285714285, \"interactionType\": 1, \"questionType\": 1, \"questionId\": \"7_StarRatings\", \"learnToolsVersion\": \"0.3.4\", \"failureMessage\": \"\", \"exceptionClass\": \"\", \"trace\": \"\"}}, \"*\")"
      ],
      "text/plain": [
       "<IPython.core.display.Javascript object>"
      ]
     },
     "metadata": {},
     "output_type": "display_data"
    },
    {
     "data": {
      "text/markdown": [
       "<span style=\"color:#33cc33\">Correct</span>"
      ],
      "text/plain": [
       "Correct"
      ]
     },
     "metadata": {},
     "output_type": "display_data"
    }
   ],
   "source": [
    "def ratings(row):\n",
    "    if(row.points >= 95):\n",
    "        return 3\n",
    "    elif(row.country == \"Canada\"):\n",
    "        return 3\n",
    "    elif(row.points >= 85):\n",
    "        return 2\n",
    "    else:\n",
    "        return 1\n",
    "star_ratings = reviews.apply(ratings, axis = 'columns')\n",
    "\n",
    "# Check your answer\n",
    "q7.check()"
   ]
  },
  {
   "cell_type": "code",
   "execution_count": 15,
   "id": "d1118c92",
   "metadata": {
    "execution": {
     "iopub.execute_input": "2022-06-25T16:37:01.661675Z",
     "iopub.status.busy": "2022-06-25T16:37:01.661281Z",
     "iopub.status.idle": "2022-06-25T16:37:01.666057Z",
     "shell.execute_reply": "2022-06-25T16:37:01.664834Z"
    },
    "papermill": {
     "duration": 0.018639,
     "end_time": "2022-06-25T16:37:01.669213",
     "exception": false,
     "start_time": "2022-06-25T16:37:01.650574",
     "status": "completed"
    },
    "tags": []
   },
   "outputs": [],
   "source": [
    "#q7.hint()\n",
    "#q7.solution()"
   ]
  },
  {
   "cell_type": "markdown",
   "id": "ff0ee672",
   "metadata": {
    "papermill": {
     "duration": 0.009047,
     "end_time": "2022-06-25T16:37:01.687611",
     "exception": false,
     "start_time": "2022-06-25T16:37:01.678564",
     "status": "completed"
    },
    "tags": []
   },
   "source": [
    "# Keep going\n",
    "Continue to **[grouping and sorting](https://www.kaggle.com/residentmario/grouping-and-sorting)**."
   ]
  },
  {
   "cell_type": "markdown",
   "id": "fd59e29c",
   "metadata": {
    "papermill": {
     "duration": 0.009121,
     "end_time": "2022-06-25T16:37:01.706212",
     "exception": false,
     "start_time": "2022-06-25T16:37:01.697091",
     "status": "completed"
    },
    "tags": []
   },
   "source": [
    "---\n",
    "\n",
    "\n",
    "\n",
    "\n",
    "*Have questions or comments? Visit the [course discussion forum](https://www.kaggle.com/learn/pandas/discussion) to chat with other learners.*"
   ]
  }
 ],
 "metadata": {
  "kernelspec": {
   "display_name": "Python 3",
   "language": "python",
   "name": "python3"
  },
  "language_info": {
   "codemirror_mode": {
    "name": "ipython",
    "version": 3
   },
   "file_extension": ".py",
   "mimetype": "text/x-python",
   "name": "python",
   "nbconvert_exporter": "python",
   "pygments_lexer": "ipython3",
   "version": "3.7.12"
  },
  "papermill": {
   "default_parameters": {},
   "duration": 25.784427,
   "end_time": "2022-06-25T16:37:02.437357",
   "environment_variables": {},
   "exception": null,
   "input_path": "__notebook__.ipynb",
   "output_path": "__notebook__.ipynb",
   "parameters": {},
   "start_time": "2022-06-25T16:36:36.652930",
   "version": "2.3.4"
  }
 },
 "nbformat": 4,
 "nbformat_minor": 5
}

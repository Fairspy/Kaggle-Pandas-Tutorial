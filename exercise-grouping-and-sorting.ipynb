{
 "cells": [
  {
   "cell_type": "markdown",
   "id": "376ef92f",
   "metadata": {
    "papermill": {
     "duration": 0.005725,
     "end_time": "2022-06-25T17:05:16.010159",
     "exception": false,
     "start_time": "2022-06-25T17:05:16.004434",
     "status": "completed"
    },
    "tags": []
   },
   "source": [
    "**This notebook is an exercise in the [Pandas](https://www.kaggle.com/learn/pandas) course.  You can reference the tutorial at [this link](https://www.kaggle.com/residentmario/grouping-and-sorting).**\n",
    "\n",
    "---\n"
   ]
  },
  {
   "cell_type": "markdown",
   "id": "ec694390",
   "metadata": {
    "papermill": {
     "duration": 0.00479,
     "end_time": "2022-06-25T17:05:16.019800",
     "exception": false,
     "start_time": "2022-06-25T17:05:16.015010",
     "status": "completed"
    },
    "tags": []
   },
   "source": [
    "# Introduction\n",
    "\n",
    "In these exercises we'll apply groupwise analysis to our dataset.\n",
    "\n",
    "Run the code cell below to load the data before running the exercises."
   ]
  },
  {
   "cell_type": "code",
   "execution_count": 1,
   "id": "ab023b28",
   "metadata": {
    "execution": {
     "iopub.execute_input": "2022-06-25T17:05:16.033432Z",
     "iopub.status.busy": "2022-06-25T17:05:16.032769Z",
     "iopub.status.idle": "2022-06-25T17:05:18.756453Z",
     "shell.execute_reply": "2022-06-25T17:05:18.755655Z"
    },
    "papermill": {
     "duration": 2.735316,
     "end_time": "2022-06-25T17:05:18.760758",
     "exception": false,
     "start_time": "2022-06-25T17:05:16.025442",
     "status": "completed"
    },
    "tags": []
   },
   "outputs": [
    {
     "name": "stdout",
     "output_type": "stream",
     "text": [
      "Setup complete.\n"
     ]
    }
   ],
   "source": [
    "import pandas as pd\n",
    "\n",
    "reviews = pd.read_csv(\"../input/wine-reviews/winemag-data-130k-v2.csv\", index_col=0)\n",
    "#pd.set_option(\"display.max_rows\", 5)\n",
    "\n",
    "from learntools.core import binder; binder.bind(globals())\n",
    "from learntools.pandas.grouping_and_sorting import *\n",
    "print(\"Setup complete.\")"
   ]
  },
  {
   "cell_type": "markdown",
   "id": "d1f3b2eb",
   "metadata": {
    "papermill": {
     "duration": 0.004506,
     "end_time": "2022-06-25T17:05:18.770211",
     "exception": false,
     "start_time": "2022-06-25T17:05:18.765705",
     "status": "completed"
    },
    "tags": []
   },
   "source": [
    "# Exercises"
   ]
  },
  {
   "cell_type": "markdown",
   "id": "632f1165",
   "metadata": {
    "papermill": {
     "duration": 0.004534,
     "end_time": "2022-06-25T17:05:18.779528",
     "exception": false,
     "start_time": "2022-06-25T17:05:18.774994",
     "status": "completed"
    },
    "tags": []
   },
   "source": [
    "## 1.\n",
    "Who are the most common wine reviewers in the dataset? Create a `Series` whose index is the `taster_twitter_handle` category from the dataset, and whose values count how many reviews each person wrote."
   ]
  },
  {
   "cell_type": "code",
   "execution_count": 2,
   "id": "b4c72dae",
   "metadata": {
    "execution": {
     "iopub.execute_input": "2022-06-25T17:05:18.791302Z",
     "iopub.status.busy": "2022-06-25T17:05:18.790250Z",
     "iopub.status.idle": "2022-06-25T17:05:18.818745Z",
     "shell.execute_reply": "2022-06-25T17:05:18.817605Z"
    },
    "papermill": {
     "duration": 0.036606,
     "end_time": "2022-06-25T17:05:18.820857",
     "exception": false,
     "start_time": "2022-06-25T17:05:18.784251",
     "status": "completed"
    },
    "tags": []
   },
   "outputs": [
    {
     "data": {
      "application/javascript": [
       "parent.postMessage({\"jupyterEvent\": \"custom.exercise_interaction\", \"data\": {\"outcomeType\": 1, \"valueTowardsCompletion\": 0.16666666666666666, \"interactionType\": 1, \"questionType\": 1, \"questionId\": \"1_ReviewsWritten\", \"learnToolsVersion\": \"0.3.4\", \"failureMessage\": \"\", \"exceptionClass\": \"\", \"trace\": \"\"}}, \"*\")"
      ],
      "text/plain": [
       "<IPython.core.display.Javascript object>"
      ]
     },
     "metadata": {},
     "output_type": "display_data"
    },
    {
     "data": {
      "text/markdown": [
       "<span style=\"color:#33cc33\">Correct:</span> \n",
       "\n",
       "\n",
       "```python\n",
       "reviews_written = reviews.groupby('taster_twitter_handle').size()\n",
       "```\n",
       "or\n",
       "```python\n",
       "reviews_written = reviews.groupby('taster_twitter_handle').taster_twitter_handle.count()\n",
       "```\n"
      ],
      "text/plain": [
       "Correct: \n",
       "\n",
       "\n",
       "```python\n",
       "reviews_written = reviews.groupby('taster_twitter_handle').size()\n",
       "```\n",
       "or\n",
       "```python\n",
       "reviews_written = reviews.groupby('taster_twitter_handle').taster_twitter_handle.count()\n",
       "```"
      ]
     },
     "metadata": {},
     "output_type": "display_data"
    }
   ],
   "source": [
    "# Your code here\n",
    "reviews_written = reviews.groupby('taster_twitter_handle').taster_twitter_handle.count()\n",
    "\n",
    "# Check your answer\n",
    "q1.check()"
   ]
  },
  {
   "cell_type": "code",
   "execution_count": 3,
   "id": "9e5eb280",
   "metadata": {
    "execution": {
     "iopub.execute_input": "2022-06-25T17:05:18.832677Z",
     "iopub.status.busy": "2022-06-25T17:05:18.832262Z",
     "iopub.status.idle": "2022-06-25T17:05:18.836714Z",
     "shell.execute_reply": "2022-06-25T17:05:18.835688Z"
    },
    "papermill": {
     "duration": 0.013001,
     "end_time": "2022-06-25T17:05:18.838862",
     "exception": false,
     "start_time": "2022-06-25T17:05:18.825861",
     "status": "completed"
    },
    "tags": []
   },
   "outputs": [],
   "source": [
    "#q1.hint()\n",
    "#q1.solution()"
   ]
  },
  {
   "cell_type": "markdown",
   "id": "029c7c0e",
   "metadata": {
    "papermill": {
     "duration": 0.004816,
     "end_time": "2022-06-25T17:05:18.848743",
     "exception": false,
     "start_time": "2022-06-25T17:05:18.843927",
     "status": "completed"
    },
    "tags": []
   },
   "source": [
    "## 2.\n",
    "What is the best wine I can buy for a given amount of money? Create a `Series` whose index is wine prices and whose values is the maximum number of points a wine costing that much was given in a review. Sort the values by price, ascending (so that `4.0` dollars is at the top and `3300.0` dollars is at the bottom)."
   ]
  },
  {
   "cell_type": "code",
   "execution_count": 4,
   "id": "37719883",
   "metadata": {
    "execution": {
     "iopub.execute_input": "2022-06-25T17:05:18.861157Z",
     "iopub.status.busy": "2022-06-25T17:05:18.860018Z",
     "iopub.status.idle": "2022-06-25T17:05:18.875457Z",
     "shell.execute_reply": "2022-06-25T17:05:18.874381Z"
    },
    "papermill": {
     "duration": 0.023573,
     "end_time": "2022-06-25T17:05:18.877362",
     "exception": false,
     "start_time": "2022-06-25T17:05:18.853789",
     "status": "completed"
    },
    "tags": []
   },
   "outputs": [
    {
     "data": {
      "application/javascript": [
       "parent.postMessage({\"jupyterEvent\": \"custom.exercise_interaction\", \"data\": {\"outcomeType\": 1, \"valueTowardsCompletion\": 0.16666666666666666, \"interactionType\": 1, \"questionType\": 1, \"questionId\": \"2_BestRatingPerPrice\", \"learnToolsVersion\": \"0.3.4\", \"failureMessage\": \"\", \"exceptionClass\": \"\", \"trace\": \"\"}}, \"*\")"
      ],
      "text/plain": [
       "<IPython.core.display.Javascript object>"
      ]
     },
     "metadata": {},
     "output_type": "display_data"
    },
    {
     "data": {
      "text/markdown": [
       "<span style=\"color:#33cc33\">Correct</span>"
      ],
      "text/plain": [
       "Correct"
      ]
     },
     "metadata": {},
     "output_type": "display_data"
    }
   ],
   "source": [
    "best_rating_per_price = reviews.groupby('price')['points'].max().sort_index()\n",
    "\n",
    "# Check your answer\n",
    "q2.check()"
   ]
  },
  {
   "cell_type": "code",
   "execution_count": 5,
   "id": "855e2a9a",
   "metadata": {
    "execution": {
     "iopub.execute_input": "2022-06-25T17:05:18.889654Z",
     "iopub.status.busy": "2022-06-25T17:05:18.888886Z",
     "iopub.status.idle": "2022-06-25T17:05:18.893582Z",
     "shell.execute_reply": "2022-06-25T17:05:18.892277Z"
    },
    "papermill": {
     "duration": 0.013148,
     "end_time": "2022-06-25T17:05:18.895672",
     "exception": false,
     "start_time": "2022-06-25T17:05:18.882524",
     "status": "completed"
    },
    "tags": []
   },
   "outputs": [],
   "source": [
    "#q2.hint()\n",
    "#q2.solution()"
   ]
  },
  {
   "cell_type": "markdown",
   "id": "2711e1c4",
   "metadata": {
    "papermill": {
     "duration": 0.004972,
     "end_time": "2022-06-25T17:05:18.905873",
     "exception": false,
     "start_time": "2022-06-25T17:05:18.900901",
     "status": "completed"
    },
    "tags": []
   },
   "source": [
    "## 3.\n",
    "What are the minimum and maximum prices for each `variety` of wine? Create a `DataFrame` whose index is the `variety` category from the dataset and whose values are the `min` and `max` values thereof."
   ]
  },
  {
   "cell_type": "code",
   "execution_count": 6,
   "id": "d21a05f6",
   "metadata": {
    "execution": {
     "iopub.execute_input": "2022-06-25T17:05:18.917663Z",
     "iopub.status.busy": "2022-06-25T17:05:18.917260Z",
     "iopub.status.idle": "2022-06-25T17:05:18.939700Z",
     "shell.execute_reply": "2022-06-25T17:05:18.938888Z"
    },
    "papermill": {
     "duration": 0.030671,
     "end_time": "2022-06-25T17:05:18.941647",
     "exception": false,
     "start_time": "2022-06-25T17:05:18.910976",
     "status": "completed"
    },
    "tags": []
   },
   "outputs": [
    {
     "data": {
      "application/javascript": [
       "parent.postMessage({\"jupyterEvent\": \"custom.exercise_interaction\", \"data\": {\"outcomeType\": 1, \"valueTowardsCompletion\": 0.16666666666666666, \"interactionType\": 1, \"questionType\": 1, \"questionId\": \"3_PriceExtremes\", \"learnToolsVersion\": \"0.3.4\", \"failureMessage\": \"\", \"exceptionClass\": \"\", \"trace\": \"\"}}, \"*\")"
      ],
      "text/plain": [
       "<IPython.core.display.Javascript object>"
      ]
     },
     "metadata": {},
     "output_type": "display_data"
    },
    {
     "data": {
      "text/markdown": [
       "<span style=\"color:#33cc33\">Correct</span>"
      ],
      "text/plain": [
       "Correct"
      ]
     },
     "metadata": {},
     "output_type": "display_data"
    }
   ],
   "source": [
    "price_extremes = reviews.groupby('variety').price.agg([min,max])\n",
    "\n",
    "# Check your answer\n",
    "q3.check()"
   ]
  },
  {
   "cell_type": "code",
   "execution_count": 7,
   "id": "f8c9df36",
   "metadata": {
    "execution": {
     "iopub.execute_input": "2022-06-25T17:05:18.954095Z",
     "iopub.status.busy": "2022-06-25T17:05:18.953716Z",
     "iopub.status.idle": "2022-06-25T17:05:18.958588Z",
     "shell.execute_reply": "2022-06-25T17:05:18.957597Z"
    },
    "papermill": {
     "duration": 0.013827,
     "end_time": "2022-06-25T17:05:18.960727",
     "exception": false,
     "start_time": "2022-06-25T17:05:18.946900",
     "status": "completed"
    },
    "tags": []
   },
   "outputs": [],
   "source": [
    "#q3.hint()\n",
    "#q3.solution()"
   ]
  },
  {
   "cell_type": "markdown",
   "id": "658bc6eb",
   "metadata": {
    "papermill": {
     "duration": 0.005221,
     "end_time": "2022-06-25T17:05:18.971341",
     "exception": false,
     "start_time": "2022-06-25T17:05:18.966120",
     "status": "completed"
    },
    "tags": []
   },
   "source": [
    "## 4.\n",
    "What are the most expensive wine varieties? Create a variable `sorted_varieties` containing a copy of the dataframe from the previous question where varieties are sorted in descending order based on minimum price, then on maximum price (to break ties)."
   ]
  },
  {
   "cell_type": "code",
   "execution_count": 8,
   "id": "07d15983",
   "metadata": {
    "execution": {
     "iopub.execute_input": "2022-06-25T17:05:18.984675Z",
     "iopub.status.busy": "2022-06-25T17:05:18.984228Z",
     "iopub.status.idle": "2022-06-25T17:05:18.994683Z",
     "shell.execute_reply": "2022-06-25T17:05:18.993795Z"
    },
    "papermill": {
     "duration": 0.019902,
     "end_time": "2022-06-25T17:05:18.996728",
     "exception": false,
     "start_time": "2022-06-25T17:05:18.976826",
     "status": "completed"
    },
    "tags": []
   },
   "outputs": [
    {
     "data": {
      "application/javascript": [
       "parent.postMessage({\"jupyterEvent\": \"custom.exercise_interaction\", \"data\": {\"outcomeType\": 1, \"valueTowardsCompletion\": 0.16666666666666666, \"interactionType\": 1, \"questionType\": 1, \"questionId\": \"4_SortedVarieties\", \"learnToolsVersion\": \"0.3.4\", \"failureMessage\": \"\", \"exceptionClass\": \"\", \"trace\": \"\"}}, \"*\")"
      ],
      "text/plain": [
       "<IPython.core.display.Javascript object>"
      ]
     },
     "metadata": {},
     "output_type": "display_data"
    },
    {
     "data": {
      "text/markdown": [
       "<span style=\"color:#33cc33\">Correct</span>"
      ],
      "text/plain": [
       "Correct"
      ]
     },
     "metadata": {},
     "output_type": "display_data"
    }
   ],
   "source": [
    "sorted_varieties = price_extremes.sort_values(by = ['min','max'], ascending = False)\n",
    "\n",
    "# Check your answer\n",
    "q4.check()"
   ]
  },
  {
   "cell_type": "code",
   "execution_count": 9,
   "id": "bf00c731",
   "metadata": {
    "execution": {
     "iopub.execute_input": "2022-06-25T17:05:19.010198Z",
     "iopub.status.busy": "2022-06-25T17:05:19.009622Z",
     "iopub.status.idle": "2022-06-25T17:05:19.013125Z",
     "shell.execute_reply": "2022-06-25T17:05:19.012358Z"
    },
    "papermill": {
     "duration": 0.012643,
     "end_time": "2022-06-25T17:05:19.015085",
     "exception": false,
     "start_time": "2022-06-25T17:05:19.002442",
     "status": "completed"
    },
    "tags": []
   },
   "outputs": [],
   "source": [
    "#q4.hint()\n",
    "#q4.solution()"
   ]
  },
  {
   "cell_type": "markdown",
   "id": "17950a45",
   "metadata": {
    "papermill": {
     "duration": 0.005328,
     "end_time": "2022-06-25T17:05:19.026153",
     "exception": false,
     "start_time": "2022-06-25T17:05:19.020825",
     "status": "completed"
    },
    "tags": []
   },
   "source": [
    "## 5.\n",
    "Create a `Series` whose index is reviewers and whose values is the average review score given out by that reviewer. Hint: you will need the `taster_name` and `points` columns."
   ]
  },
  {
   "cell_type": "code",
   "execution_count": 10,
   "id": "831a2cd2",
   "metadata": {
    "execution": {
     "iopub.execute_input": "2022-06-25T17:05:19.040015Z",
     "iopub.status.busy": "2022-06-25T17:05:19.039398Z",
     "iopub.status.idle": "2022-06-25T17:05:19.057888Z",
     "shell.execute_reply": "2022-06-25T17:05:19.057028Z"
    },
    "papermill": {
     "duration": 0.027815,
     "end_time": "2022-06-25T17:05:19.060031",
     "exception": false,
     "start_time": "2022-06-25T17:05:19.032216",
     "status": "completed"
    },
    "tags": []
   },
   "outputs": [
    {
     "data": {
      "application/javascript": [
       "parent.postMessage({\"jupyterEvent\": \"custom.exercise_interaction\", \"data\": {\"outcomeType\": 1, \"valueTowardsCompletion\": 0.16666666666666666, \"interactionType\": 1, \"questionType\": 1, \"questionId\": \"5_ReviewerMeanRatings\", \"learnToolsVersion\": \"0.3.4\", \"failureMessage\": \"\", \"exceptionClass\": \"\", \"trace\": \"\"}}, \"*\")"
      ],
      "text/plain": [
       "<IPython.core.display.Javascript object>"
      ]
     },
     "metadata": {},
     "output_type": "display_data"
    },
    {
     "data": {
      "text/markdown": [
       "<span style=\"color:#33cc33\">Correct</span>"
      ],
      "text/plain": [
       "Correct"
      ]
     },
     "metadata": {},
     "output_type": "display_data"
    }
   ],
   "source": [
    "reviewer_mean_ratings = reviews.groupby('taster_name').points.mean()\n",
    "\n",
    "# Check your answer\n",
    "q5.check()"
   ]
  },
  {
   "cell_type": "code",
   "execution_count": 11,
   "id": "32feaf2a",
   "metadata": {
    "execution": {
     "iopub.execute_input": "2022-06-25T17:05:19.075265Z",
     "iopub.status.busy": "2022-06-25T17:05:19.074636Z",
     "iopub.status.idle": "2022-06-25T17:05:19.078367Z",
     "shell.execute_reply": "2022-06-25T17:05:19.077370Z"
    },
    "papermill": {
     "duration": 0.014761,
     "end_time": "2022-06-25T17:05:19.080725",
     "exception": false,
     "start_time": "2022-06-25T17:05:19.065964",
     "status": "completed"
    },
    "tags": []
   },
   "outputs": [],
   "source": [
    "#q5.hint()\n",
    "#q5.solution()"
   ]
  },
  {
   "cell_type": "markdown",
   "id": "45c093ca",
   "metadata": {
    "papermill": {
     "duration": 0.005642,
     "end_time": "2022-06-25T17:05:19.092416",
     "exception": false,
     "start_time": "2022-06-25T17:05:19.086774",
     "status": "completed"
    },
    "tags": []
   },
   "source": [
    "Are there significant differences in the average scores assigned by the various reviewers? Run the cell below to use the `describe()` method to see a summary of the range of values."
   ]
  },
  {
   "cell_type": "code",
   "execution_count": 12,
   "id": "f04ed5bf",
   "metadata": {
    "execution": {
     "iopub.execute_input": "2022-06-25T17:05:19.106497Z",
     "iopub.status.busy": "2022-06-25T17:05:19.105932Z",
     "iopub.status.idle": "2022-06-25T17:05:19.118104Z",
     "shell.execute_reply": "2022-06-25T17:05:19.117251Z"
    },
    "papermill": {
     "duration": 0.022191,
     "end_time": "2022-06-25T17:05:19.120554",
     "exception": false,
     "start_time": "2022-06-25T17:05:19.098363",
     "status": "completed"
    },
    "tags": []
   },
   "outputs": [
    {
     "data": {
      "text/plain": [
       "count    19.000000\n",
       "mean     88.233026\n",
       "std       1.243610\n",
       "min      85.855422\n",
       "25%      87.323501\n",
       "50%      88.536235\n",
       "75%      88.975256\n",
       "max      90.562551\n",
       "Name: points, dtype: float64"
      ]
     },
     "execution_count": 12,
     "metadata": {},
     "output_type": "execute_result"
    }
   ],
   "source": [
    "reviewer_mean_ratings.describe()"
   ]
  },
  {
   "cell_type": "markdown",
   "id": "40429da0",
   "metadata": {
    "papermill": {
     "duration": 0.005859,
     "end_time": "2022-06-25T17:05:19.134494",
     "exception": false,
     "start_time": "2022-06-25T17:05:19.128635",
     "status": "completed"
    },
    "tags": []
   },
   "source": [
    "## 6.\n",
    "What combination of countries and varieties are most common? Create a `Series` whose index is a `MultiIndex`of `{country, variety}` pairs. For example, a pinot noir produced in the US should map to `{\"US\", \"Pinot Noir\"}`. Sort the values in the `Series` in descending order based on wine count."
   ]
  },
  {
   "cell_type": "code",
   "execution_count": 13,
   "id": "06dba181",
   "metadata": {
    "execution": {
     "iopub.execute_input": "2022-06-25T17:05:19.148861Z",
     "iopub.status.busy": "2022-06-25T17:05:19.148258Z",
     "iopub.status.idle": "2022-06-25T17:05:19.180721Z",
     "shell.execute_reply": "2022-06-25T17:05:19.179714Z"
    },
    "papermill": {
     "duration": 0.042267,
     "end_time": "2022-06-25T17:05:19.182841",
     "exception": false,
     "start_time": "2022-06-25T17:05:19.140574",
     "status": "completed"
    },
    "tags": []
   },
   "outputs": [
    {
     "data": {
      "application/javascript": [
       "parent.postMessage({\"jupyterEvent\": \"custom.exercise_interaction\", \"data\": {\"outcomeType\": 1, \"valueTowardsCompletion\": 0.16666666666666666, \"interactionType\": 1, \"questionType\": 1, \"questionId\": \"6_GroupbyCountryVariety\", \"learnToolsVersion\": \"0.3.4\", \"failureMessage\": \"\", \"exceptionClass\": \"\", \"trace\": \"\"}}, \"*\")"
      ],
      "text/plain": [
       "<IPython.core.display.Javascript object>"
      ]
     },
     "metadata": {},
     "output_type": "display_data"
    },
    {
     "data": {
      "text/markdown": [
       "<span style=\"color:#33cc33\">Correct</span>"
      ],
      "text/plain": [
       "Correct"
      ]
     },
     "metadata": {},
     "output_type": "display_data"
    }
   ],
   "source": [
    "country_variety_counts = reviews.groupby(['country','variety']).size().sort_values(ascending = False)\n",
    "\n",
    "# Check your answer\n",
    "q6.check()"
   ]
  },
  {
   "cell_type": "code",
   "execution_count": 14,
   "id": "229dacd7",
   "metadata": {
    "execution": {
     "iopub.execute_input": "2022-06-25T17:05:19.198257Z",
     "iopub.status.busy": "2022-06-25T17:05:19.197568Z",
     "iopub.status.idle": "2022-06-25T17:05:19.201999Z",
     "shell.execute_reply": "2022-06-25T17:05:19.200856Z"
    },
    "papermill": {
     "duration": 0.01475,
     "end_time": "2022-06-25T17:05:19.204400",
     "exception": false,
     "start_time": "2022-06-25T17:05:19.189650",
     "status": "completed"
    },
    "tags": []
   },
   "outputs": [],
   "source": [
    "#q6.hint()\n",
    "#q6.solution()"
   ]
  },
  {
   "cell_type": "markdown",
   "id": "f5e8091d",
   "metadata": {
    "papermill": {
     "duration": 0.006055,
     "end_time": "2022-06-25T17:05:19.216742",
     "exception": false,
     "start_time": "2022-06-25T17:05:19.210687",
     "status": "completed"
    },
    "tags": []
   },
   "source": [
    "# Keep going\n",
    "\n",
    "Move on to the [**data types and missing data**](https://www.kaggle.com/residentmario/data-types-and-missing-values)."
   ]
  },
  {
   "cell_type": "markdown",
   "id": "05ff570d",
   "metadata": {
    "papermill": {
     "duration": 0.005729,
     "end_time": "2022-06-25T17:05:19.228519",
     "exception": false,
     "start_time": "2022-06-25T17:05:19.222790",
     "status": "completed"
    },
    "tags": []
   },
   "source": [
    "---\n",
    "\n",
    "\n",
    "\n",
    "\n",
    "*Have questions or comments? Visit the [course discussion forum](https://www.kaggle.com/learn/pandas/discussion) to chat with other learners.*"
   ]
  }
 ],
 "metadata": {
  "kernelspec": {
   "display_name": "Python 3",
   "language": "python",
   "name": "python3"
  },
  "language_info": {
   "codemirror_mode": {
    "name": "ipython",
    "version": 3
   },
   "file_extension": ".py",
   "mimetype": "text/x-python",
   "name": "python",
   "nbconvert_exporter": "python",
   "pygments_lexer": "ipython3",
   "version": "3.7.12"
  },
  "papermill": {
   "default_parameters": {},
   "duration": 12.959045,
   "end_time": "2022-06-25T17:05:19.957239",
   "environment_variables": {},
   "exception": null,
   "input_path": "__notebook__.ipynb",
   "output_path": "__notebook__.ipynb",
   "parameters": {},
   "start_time": "2022-06-25T17:05:06.998194",
   "version": "2.3.4"
  }
 },
 "nbformat": 4,
 "nbformat_minor": 5
}

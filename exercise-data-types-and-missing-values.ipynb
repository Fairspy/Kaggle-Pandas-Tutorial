{
 "cells": [
  {
   "cell_type": "markdown",
   "id": "bcf41e8c",
   "metadata": {
    "papermill": {
     "duration": 0.00471,
     "end_time": "2022-06-25T17:26:04.325715",
     "exception": false,
     "start_time": "2022-06-25T17:26:04.321005",
     "status": "completed"
    },
    "tags": []
   },
   "source": [
    "**This notebook is an exercise in the [Pandas](https://www.kaggle.com/learn/pandas) course.  You can reference the tutorial at [this link](https://www.kaggle.com/residentmario/data-types-and-missing-values).**\n",
    "\n",
    "---\n"
   ]
  },
  {
   "cell_type": "markdown",
   "id": "c6956655",
   "metadata": {
    "papermill": {
     "duration": 0.003126,
     "end_time": "2022-06-25T17:26:04.332482",
     "exception": false,
     "start_time": "2022-06-25T17:26:04.329356",
     "status": "completed"
    },
    "tags": []
   },
   "source": [
    "# Introduction\n",
    "\n",
    "Run the following cell to load your data and some utility functions."
   ]
  },
  {
   "cell_type": "code",
   "execution_count": 1,
   "id": "004216d7",
   "metadata": {
    "execution": {
     "iopub.execute_input": "2022-06-25T17:26:04.341946Z",
     "iopub.status.busy": "2022-06-25T17:26:04.341128Z",
     "iopub.status.idle": "2022-06-25T17:26:07.050259Z",
     "shell.execute_reply": "2022-06-25T17:26:07.048878Z"
    },
    "papermill": {
     "duration": 2.717106,
     "end_time": "2022-06-25T17:26:07.052927",
     "exception": false,
     "start_time": "2022-06-25T17:26:04.335821",
     "status": "completed"
    },
    "tags": []
   },
   "outputs": [
    {
     "name": "stdout",
     "output_type": "stream",
     "text": [
      "Setup complete.\n"
     ]
    }
   ],
   "source": [
    "import pandas as pd\n",
    "\n",
    "reviews = pd.read_csv(\"../input/wine-reviews/winemag-data-130k-v2.csv\", index_col=0)\n",
    "\n",
    "from learntools.core import binder; binder.bind(globals())\n",
    "from learntools.pandas.data_types_and_missing_data import *\n",
    "print(\"Setup complete.\")"
   ]
  },
  {
   "cell_type": "markdown",
   "id": "a3e2fdb7",
   "metadata": {
    "papermill": {
     "duration": 0.00335,
     "end_time": "2022-06-25T17:26:07.059951",
     "exception": false,
     "start_time": "2022-06-25T17:26:07.056601",
     "status": "completed"
    },
    "tags": []
   },
   "source": [
    "# Exercises"
   ]
  },
  {
   "cell_type": "markdown",
   "id": "dee8a6e2",
   "metadata": {
    "papermill": {
     "duration": 0.003607,
     "end_time": "2022-06-25T17:26:07.067209",
     "exception": false,
     "start_time": "2022-06-25T17:26:07.063602",
     "status": "completed"
    },
    "tags": []
   },
   "source": [
    "## 1. \n",
    "What is the data type of the `points` column in the dataset?"
   ]
  },
  {
   "cell_type": "code",
   "execution_count": 2,
   "id": "c356bcb2",
   "metadata": {
    "execution": {
     "iopub.execute_input": "2022-06-25T17:26:07.075730Z",
     "iopub.status.busy": "2022-06-25T17:26:07.075388Z",
     "iopub.status.idle": "2022-06-25T17:26:07.085918Z",
     "shell.execute_reply": "2022-06-25T17:26:07.084901Z"
    },
    "papermill": {
     "duration": 0.017366,
     "end_time": "2022-06-25T17:26:07.087970",
     "exception": false,
     "start_time": "2022-06-25T17:26:07.070604",
     "status": "completed"
    },
    "tags": []
   },
   "outputs": [
    {
     "data": {
      "application/javascript": [
       "parent.postMessage({\"jupyterEvent\": \"custom.exercise_interaction\", \"data\": {\"outcomeType\": 1, \"valueTowardsCompletion\": 0.25, \"interactionType\": 1, \"questionType\": 1, \"questionId\": \"1_PointsDtype\", \"learnToolsVersion\": \"0.3.4\", \"failureMessage\": \"\", \"exceptionClass\": \"\", \"trace\": \"\"}}, \"*\")"
      ],
      "text/plain": [
       "<IPython.core.display.Javascript object>"
      ]
     },
     "metadata": {},
     "output_type": "display_data"
    },
    {
     "data": {
      "text/markdown": [
       "<span style=\"color:#33cc33\">Correct</span>"
      ],
      "text/plain": [
       "Correct"
      ]
     },
     "metadata": {},
     "output_type": "display_data"
    }
   ],
   "source": [
    "# Your code here\n",
    "dtype = reviews.points.dtype\n",
    "\n",
    "# Check your answer\n",
    "q1.check()"
   ]
  },
  {
   "cell_type": "code",
   "execution_count": 3,
   "id": "50944231",
   "metadata": {
    "execution": {
     "iopub.execute_input": "2022-06-25T17:26:07.096985Z",
     "iopub.status.busy": "2022-06-25T17:26:07.096660Z",
     "iopub.status.idle": "2022-06-25T17:26:07.100478Z",
     "shell.execute_reply": "2022-06-25T17:26:07.099467Z"
    },
    "papermill": {
     "duration": 0.010632,
     "end_time": "2022-06-25T17:26:07.102368",
     "exception": false,
     "start_time": "2022-06-25T17:26:07.091736",
     "status": "completed"
    },
    "tags": []
   },
   "outputs": [],
   "source": [
    "#q1.hint()\n",
    "#q1.solution()"
   ]
  },
  {
   "cell_type": "markdown",
   "id": "6142fb02",
   "metadata": {
    "papermill": {
     "duration": 0.003484,
     "end_time": "2022-06-25T17:26:07.109669",
     "exception": false,
     "start_time": "2022-06-25T17:26:07.106185",
     "status": "completed"
    },
    "tags": []
   },
   "source": [
    "## 2. \n",
    "Create a Series from entries in the `points` column, but convert the entries to strings. Hint: strings are `str` in native Python."
   ]
  },
  {
   "cell_type": "code",
   "execution_count": 4,
   "id": "86a99ae9",
   "metadata": {
    "execution": {
     "iopub.execute_input": "2022-06-25T17:26:07.119248Z",
     "iopub.status.busy": "2022-06-25T17:26:07.118250Z",
     "iopub.status.idle": "2022-06-25T17:26:07.198271Z",
     "shell.execute_reply": "2022-06-25T17:26:07.197121Z"
    },
    "papermill": {
     "duration": 0.087364,
     "end_time": "2022-06-25T17:26:07.200765",
     "exception": false,
     "start_time": "2022-06-25T17:26:07.113401",
     "status": "completed"
    },
    "tags": []
   },
   "outputs": [
    {
     "data": {
      "application/javascript": [
       "parent.postMessage({\"jupyterEvent\": \"custom.exercise_interaction\", \"data\": {\"outcomeType\": 1, \"valueTowardsCompletion\": 0.25, \"interactionType\": 1, \"questionType\": 1, \"questionId\": \"2_StrPoints\", \"learnToolsVersion\": \"0.3.4\", \"failureMessage\": \"\", \"exceptionClass\": \"\", \"trace\": \"\"}}, \"*\")"
      ],
      "text/plain": [
       "<IPython.core.display.Javascript object>"
      ]
     },
     "metadata": {},
     "output_type": "display_data"
    },
    {
     "data": {
      "text/markdown": [
       "<span style=\"color:#33cc33\">Correct</span>"
      ],
      "text/plain": [
       "Correct"
      ]
     },
     "metadata": {},
     "output_type": "display_data"
    }
   ],
   "source": [
    "point_strings = reviews.points.astype('str')\n",
    "\n",
    "# Check your answer\n",
    "q2.check()"
   ]
  },
  {
   "cell_type": "code",
   "execution_count": 5,
   "id": "2a482617",
   "metadata": {
    "execution": {
     "iopub.execute_input": "2022-06-25T17:26:07.210373Z",
     "iopub.status.busy": "2022-06-25T17:26:07.210006Z",
     "iopub.status.idle": "2022-06-25T17:26:07.213909Z",
     "shell.execute_reply": "2022-06-25T17:26:07.212802Z"
    },
    "papermill": {
     "duration": 0.011105,
     "end_time": "2022-06-25T17:26:07.216000",
     "exception": false,
     "start_time": "2022-06-25T17:26:07.204895",
     "status": "completed"
    },
    "tags": []
   },
   "outputs": [],
   "source": [
    "#q2.hint()\n",
    "#q2.solution()"
   ]
  },
  {
   "cell_type": "markdown",
   "id": "5f840b49",
   "metadata": {
    "papermill": {
     "duration": 0.003611,
     "end_time": "2022-06-25T17:26:07.223647",
     "exception": false,
     "start_time": "2022-06-25T17:26:07.220036",
     "status": "completed"
    },
    "tags": []
   },
   "source": [
    "## 3.\n",
    "Sometimes the price column is null. How many reviews in the dataset are missing a price?"
   ]
  },
  {
   "cell_type": "code",
   "execution_count": 6,
   "id": "7c134b9c",
   "metadata": {
    "execution": {
     "iopub.execute_input": "2022-06-25T17:26:07.232880Z",
     "iopub.status.busy": "2022-06-25T17:26:07.232553Z",
     "iopub.status.idle": "2022-06-25T17:26:07.243651Z",
     "shell.execute_reply": "2022-06-25T17:26:07.242740Z"
    },
    "papermill": {
     "duration": 0.018048,
     "end_time": "2022-06-25T17:26:07.245519",
     "exception": false,
     "start_time": "2022-06-25T17:26:07.227471",
     "status": "completed"
    },
    "tags": []
   },
   "outputs": [
    {
     "data": {
      "application/javascript": [
       "parent.postMessage({\"jupyterEvent\": \"custom.exercise_interaction\", \"data\": {\"outcomeType\": 1, \"valueTowardsCompletion\": 0.25, \"interactionType\": 1, \"questionType\": 1, \"questionId\": \"3_CountMissingPrices\", \"learnToolsVersion\": \"0.3.4\", \"failureMessage\": \"\", \"exceptionClass\": \"\", \"trace\": \"\"}}, \"*\")"
      ],
      "text/plain": [
       "<IPython.core.display.Javascript object>"
      ]
     },
     "metadata": {},
     "output_type": "display_data"
    },
    {
     "data": {
      "text/markdown": [
       "<span style=\"color:#33cc33\">Correct</span>"
      ],
      "text/plain": [
       "Correct"
      ]
     },
     "metadata": {},
     "output_type": "display_data"
    }
   ],
   "source": [
    "n_missing_prices = reviews.price.isnull().sum()\n",
    "\n",
    "# Check your answer\n",
    "q3.check()"
   ]
  },
  {
   "cell_type": "code",
   "execution_count": 7,
   "id": "f188e43d",
   "metadata": {
    "execution": {
     "iopub.execute_input": "2022-06-25T17:26:07.255352Z",
     "iopub.status.busy": "2022-06-25T17:26:07.255030Z",
     "iopub.status.idle": "2022-06-25T17:26:07.259698Z",
     "shell.execute_reply": "2022-06-25T17:26:07.259038Z"
    },
    "papermill": {
     "duration": 0.011871,
     "end_time": "2022-06-25T17:26:07.261516",
     "exception": false,
     "start_time": "2022-06-25T17:26:07.249645",
     "status": "completed"
    },
    "tags": []
   },
   "outputs": [],
   "source": [
    "#q3.hint()\n",
    "#q3.solution()"
   ]
  },
  {
   "cell_type": "markdown",
   "id": "0da1600c",
   "metadata": {
    "papermill": {
     "duration": 0.003736,
     "end_time": "2022-06-25T17:26:07.269215",
     "exception": false,
     "start_time": "2022-06-25T17:26:07.265479",
     "status": "completed"
    },
    "tags": []
   },
   "source": [
    "## 4.\n",
    "What are the most common wine-producing regions? Create a Series counting the number of times each value occurs in the `region_1` field. This field is often missing data, so replace missing values with `Unknown`. Sort in descending order.  Your output should look something like this:\n",
    "\n",
    "```\n",
    "Unknown                    21247\n",
    "Napa Valley                 4480\n",
    "                           ...  \n",
    "Bardolino Superiore            1\n",
    "Primitivo del Tarantino        1\n",
    "Name: region_1, Length: 1230, dtype: int64\n",
    "```"
   ]
  },
  {
   "cell_type": "code",
   "execution_count": 8,
   "id": "206c5197",
   "metadata": {
    "execution": {
     "iopub.execute_input": "2022-06-25T17:26:07.278952Z",
     "iopub.status.busy": "2022-06-25T17:26:07.278023Z",
     "iopub.status.idle": "2022-06-25T17:26:07.327461Z",
     "shell.execute_reply": "2022-06-25T17:26:07.326512Z"
    },
    "papermill": {
     "duration": 0.056329,
     "end_time": "2022-06-25T17:26:07.329424",
     "exception": false,
     "start_time": "2022-06-25T17:26:07.273095",
     "status": "completed"
    },
    "tags": []
   },
   "outputs": [
    {
     "data": {
      "application/javascript": [
       "parent.postMessage({\"jupyterEvent\": \"custom.exercise_interaction\", \"data\": {\"outcomeType\": 1, \"valueTowardsCompletion\": 0.25, \"interactionType\": 1, \"questionType\": 2, \"questionId\": \"4_ReviewsPerRegion\", \"learnToolsVersion\": \"0.3.4\", \"failureMessage\": \"\", \"exceptionClass\": \"\", \"trace\": \"\"}}, \"*\")"
      ],
      "text/plain": [
       "<IPython.core.display.Javascript object>"
      ]
     },
     "metadata": {},
     "output_type": "display_data"
    },
    {
     "data": {
      "text/markdown": [
       "<span style=\"color:#33cc33\">Correct</span>"
      ],
      "text/plain": [
       "Correct"
      ]
     },
     "metadata": {},
     "output_type": "display_data"
    }
   ],
   "source": [
    "reviews_region = reviews.region_1.fillna(\"Unknown\")\n",
    "reviews_per_region = reviews.region_1.fillna(\"Unknown\").value_counts().sort_values(ascending=False)\n",
    "\n",
    "# Check your answer\n",
    "q4.check()"
   ]
  },
  {
   "cell_type": "code",
   "execution_count": 9,
   "id": "26376dd1",
   "metadata": {
    "execution": {
     "iopub.execute_input": "2022-06-25T17:26:07.338972Z",
     "iopub.status.busy": "2022-06-25T17:26:07.338640Z",
     "iopub.status.idle": "2022-06-25T17:26:07.342725Z",
     "shell.execute_reply": "2022-06-25T17:26:07.341752Z"
    },
    "papermill": {
     "duration": 0.011137,
     "end_time": "2022-06-25T17:26:07.344773",
     "exception": false,
     "start_time": "2022-06-25T17:26:07.333636",
     "status": "completed"
    },
    "tags": []
   },
   "outputs": [],
   "source": [
    "#q4.hint()\n",
    "#q4.solution()"
   ]
  },
  {
   "cell_type": "markdown",
   "id": "0c5f590d",
   "metadata": {
    "papermill": {
     "duration": 0.003907,
     "end_time": "2022-06-25T17:26:07.352856",
     "exception": false,
     "start_time": "2022-06-25T17:26:07.348949",
     "status": "completed"
    },
    "tags": []
   },
   "source": [
    "# Keep going\n",
    "\n",
    "Move on to **[renaming and combining](https://www.kaggle.com/residentmario/renaming-and-combining)**."
   ]
  },
  {
   "cell_type": "markdown",
   "id": "1e0c53f2",
   "metadata": {
    "papermill": {
     "duration": 0.003956,
     "end_time": "2022-06-25T17:26:07.360922",
     "exception": false,
     "start_time": "2022-06-25T17:26:07.356966",
     "status": "completed"
    },
    "tags": []
   },
   "source": [
    "---\n",
    "\n",
    "\n",
    "\n",
    "\n",
    "*Have questions or comments? Visit the [course discussion forum](https://www.kaggle.com/learn/pandas/discussion) to chat with other learners.*"
   ]
  }
 ],
 "metadata": {
  "kernelspec": {
   "display_name": "Python 3",
   "language": "python",
   "name": "python3"
  },
  "language_info": {
   "codemirror_mode": {
    "name": "ipython",
    "version": 3
   },
   "file_extension": ".py",
   "mimetype": "text/x-python",
   "name": "python",
   "nbconvert_exporter": "python",
   "pygments_lexer": "ipython3",
   "version": "3.7.12"
  },
  "papermill": {
   "default_parameters": {},
   "duration": 14.53199,
   "end_time": "2022-06-25T17:26:10.200928",
   "environment_variables": {},
   "exception": null,
   "input_path": "__notebook__.ipynb",
   "output_path": "__notebook__.ipynb",
   "parameters": {},
   "start_time": "2022-06-25T17:25:55.668938",
   "version": "2.3.4"
  }
 },
 "nbformat": 4,
 "nbformat_minor": 5
}

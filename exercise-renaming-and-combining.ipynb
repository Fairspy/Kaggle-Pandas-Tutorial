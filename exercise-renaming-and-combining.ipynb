{
 "cells": [
  {
   "cell_type": "markdown",
   "id": "a3b7bd13",
   "metadata": {
    "papermill": {
     "duration": 0.007373,
     "end_time": "2022-06-25T17:43:45.014096",
     "exception": false,
     "start_time": "2022-06-25T17:43:45.006723",
     "status": "completed"
    },
    "tags": []
   },
   "source": [
    "**This notebook is an exercise in the [Pandas](https://www.kaggle.com/learn/pandas) course.  You can reference the tutorial at [this link](https://www.kaggle.com/residentmario/renaming-and-combining).**\n",
    "\n",
    "---\n"
   ]
  },
  {
   "cell_type": "markdown",
   "id": "529f81d2",
   "metadata": {
    "papermill": {
     "duration": 0.007234,
     "end_time": "2022-06-25T17:43:45.026986",
     "exception": false,
     "start_time": "2022-06-25T17:43:45.019752",
     "status": "completed"
    },
    "tags": []
   },
   "source": [
    "# Introduction\n",
    "\n",
    "Run the following cell to load your data and some utility functions."
   ]
  },
  {
   "cell_type": "code",
   "execution_count": 1,
   "id": "3cac072c",
   "metadata": {
    "execution": {
     "iopub.execute_input": "2022-06-25T17:43:45.038366Z",
     "iopub.status.busy": "2022-06-25T17:43:45.037924Z",
     "iopub.status.idle": "2022-06-25T17:43:48.816998Z",
     "shell.execute_reply": "2022-06-25T17:43:48.815645Z"
    },
    "papermill": {
     "duration": 3.78769,
     "end_time": "2022-06-25T17:43:48.819648",
     "exception": false,
     "start_time": "2022-06-25T17:43:45.031958",
     "status": "completed"
    },
    "tags": []
   },
   "outputs": [
    {
     "name": "stdout",
     "output_type": "stream",
     "text": [
      "Setup complete.\n"
     ]
    }
   ],
   "source": [
    "import pandas as pd\n",
    "\n",
    "reviews = pd.read_csv(\"../input/wine-reviews/winemag-data-130k-v2.csv\", index_col=0)\n",
    "\n",
    "from learntools.core import binder; binder.bind(globals())\n",
    "from learntools.pandas.renaming_and_combining import *\n",
    "print(\"Setup complete.\")"
   ]
  },
  {
   "cell_type": "markdown",
   "id": "d11acc8b",
   "metadata": {
    "papermill": {
     "duration": 0.004051,
     "end_time": "2022-06-25T17:43:48.828173",
     "exception": false,
     "start_time": "2022-06-25T17:43:48.824122",
     "status": "completed"
    },
    "tags": []
   },
   "source": [
    "# Exercises\n",
    "\n",
    "View the first several lines of your data by running the cell below:"
   ]
  },
  {
   "cell_type": "code",
   "execution_count": 2,
   "id": "3ab5818d",
   "metadata": {
    "execution": {
     "iopub.execute_input": "2022-06-25T17:43:48.838469Z",
     "iopub.status.busy": "2022-06-25T17:43:48.837890Z",
     "iopub.status.idle": "2022-06-25T17:43:48.859085Z",
     "shell.execute_reply": "2022-06-25T17:43:48.858227Z"
    },
    "papermill": {
     "duration": 0.028598,
     "end_time": "2022-06-25T17:43:48.860964",
     "exception": false,
     "start_time": "2022-06-25T17:43:48.832366",
     "status": "completed"
    },
    "tags": []
   },
   "outputs": [
    {
     "data": {
      "text/html": [
       "<div>\n",
       "<style scoped>\n",
       "    .dataframe tbody tr th:only-of-type {\n",
       "        vertical-align: middle;\n",
       "    }\n",
       "\n",
       "    .dataframe tbody tr th {\n",
       "        vertical-align: top;\n",
       "    }\n",
       "\n",
       "    .dataframe thead th {\n",
       "        text-align: right;\n",
       "    }\n",
       "</style>\n",
       "<table border=\"1\" class=\"dataframe\">\n",
       "  <thead>\n",
       "    <tr style=\"text-align: right;\">\n",
       "      <th></th>\n",
       "      <th>country</th>\n",
       "      <th>description</th>\n",
       "      <th>designation</th>\n",
       "      <th>points</th>\n",
       "      <th>price</th>\n",
       "      <th>province</th>\n",
       "      <th>region_1</th>\n",
       "      <th>region_2</th>\n",
       "      <th>taster_name</th>\n",
       "      <th>taster_twitter_handle</th>\n",
       "      <th>title</th>\n",
       "      <th>variety</th>\n",
       "      <th>winery</th>\n",
       "    </tr>\n",
       "  </thead>\n",
       "  <tbody>\n",
       "    <tr>\n",
       "      <th>0</th>\n",
       "      <td>Italy</td>\n",
       "      <td>Aromas include tropical fruit, broom, brimston...</td>\n",
       "      <td>Vulkà Bianco</td>\n",
       "      <td>87</td>\n",
       "      <td>NaN</td>\n",
       "      <td>Sicily &amp; Sardinia</td>\n",
       "      <td>Etna</td>\n",
       "      <td>NaN</td>\n",
       "      <td>Kerin O’Keefe</td>\n",
       "      <td>@kerinokeefe</td>\n",
       "      <td>Nicosia 2013 Vulkà Bianco  (Etna)</td>\n",
       "      <td>White Blend</td>\n",
       "      <td>Nicosia</td>\n",
       "    </tr>\n",
       "    <tr>\n",
       "      <th>1</th>\n",
       "      <td>Portugal</td>\n",
       "      <td>This is ripe and fruity, a wine that is smooth...</td>\n",
       "      <td>Avidagos</td>\n",
       "      <td>87</td>\n",
       "      <td>15.0</td>\n",
       "      <td>Douro</td>\n",
       "      <td>NaN</td>\n",
       "      <td>NaN</td>\n",
       "      <td>Roger Voss</td>\n",
       "      <td>@vossroger</td>\n",
       "      <td>Quinta dos Avidagos 2011 Avidagos Red (Douro)</td>\n",
       "      <td>Portuguese Red</td>\n",
       "      <td>Quinta dos Avidagos</td>\n",
       "    </tr>\n",
       "    <tr>\n",
       "      <th>2</th>\n",
       "      <td>US</td>\n",
       "      <td>Tart and snappy, the flavors of lime flesh and...</td>\n",
       "      <td>NaN</td>\n",
       "      <td>87</td>\n",
       "      <td>14.0</td>\n",
       "      <td>Oregon</td>\n",
       "      <td>Willamette Valley</td>\n",
       "      <td>Willamette Valley</td>\n",
       "      <td>Paul Gregutt</td>\n",
       "      <td>@paulgwine</td>\n",
       "      <td>Rainstorm 2013 Pinot Gris (Willamette Valley)</td>\n",
       "      <td>Pinot Gris</td>\n",
       "      <td>Rainstorm</td>\n",
       "    </tr>\n",
       "    <tr>\n",
       "      <th>3</th>\n",
       "      <td>US</td>\n",
       "      <td>Pineapple rind, lemon pith and orange blossom ...</td>\n",
       "      <td>Reserve Late Harvest</td>\n",
       "      <td>87</td>\n",
       "      <td>13.0</td>\n",
       "      <td>Michigan</td>\n",
       "      <td>Lake Michigan Shore</td>\n",
       "      <td>NaN</td>\n",
       "      <td>Alexander Peartree</td>\n",
       "      <td>NaN</td>\n",
       "      <td>St. Julian 2013 Reserve Late Harvest Riesling ...</td>\n",
       "      <td>Riesling</td>\n",
       "      <td>St. Julian</td>\n",
       "    </tr>\n",
       "    <tr>\n",
       "      <th>4</th>\n",
       "      <td>US</td>\n",
       "      <td>Much like the regular bottling from 2012, this...</td>\n",
       "      <td>Vintner's Reserve Wild Child Block</td>\n",
       "      <td>87</td>\n",
       "      <td>65.0</td>\n",
       "      <td>Oregon</td>\n",
       "      <td>Willamette Valley</td>\n",
       "      <td>Willamette Valley</td>\n",
       "      <td>Paul Gregutt</td>\n",
       "      <td>@paulgwine</td>\n",
       "      <td>Sweet Cheeks 2012 Vintner's Reserve Wild Child...</td>\n",
       "      <td>Pinot Noir</td>\n",
       "      <td>Sweet Cheeks</td>\n",
       "    </tr>\n",
       "  </tbody>\n",
       "</table>\n",
       "</div>"
      ],
      "text/plain": [
       "    country                                        description  \\\n",
       "0     Italy  Aromas include tropical fruit, broom, brimston...   \n",
       "1  Portugal  This is ripe and fruity, a wine that is smooth...   \n",
       "2        US  Tart and snappy, the flavors of lime flesh and...   \n",
       "3        US  Pineapple rind, lemon pith and orange blossom ...   \n",
       "4        US  Much like the regular bottling from 2012, this...   \n",
       "\n",
       "                          designation  points  price           province  \\\n",
       "0                        Vulkà Bianco      87    NaN  Sicily & Sardinia   \n",
       "1                            Avidagos      87   15.0              Douro   \n",
       "2                                 NaN      87   14.0             Oregon   \n",
       "3                Reserve Late Harvest      87   13.0           Michigan   \n",
       "4  Vintner's Reserve Wild Child Block      87   65.0             Oregon   \n",
       "\n",
       "              region_1           region_2         taster_name  \\\n",
       "0                 Etna                NaN       Kerin O’Keefe   \n",
       "1                  NaN                NaN          Roger Voss   \n",
       "2    Willamette Valley  Willamette Valley        Paul Gregutt   \n",
       "3  Lake Michigan Shore                NaN  Alexander Peartree   \n",
       "4    Willamette Valley  Willamette Valley        Paul Gregutt   \n",
       "\n",
       "  taster_twitter_handle                                              title  \\\n",
       "0          @kerinokeefe                  Nicosia 2013 Vulkà Bianco  (Etna)   \n",
       "1            @vossroger      Quinta dos Avidagos 2011 Avidagos Red (Douro)   \n",
       "2           @paulgwine       Rainstorm 2013 Pinot Gris (Willamette Valley)   \n",
       "3                   NaN  St. Julian 2013 Reserve Late Harvest Riesling ...   \n",
       "4           @paulgwine   Sweet Cheeks 2012 Vintner's Reserve Wild Child...   \n",
       "\n",
       "          variety               winery  \n",
       "0     White Blend              Nicosia  \n",
       "1  Portuguese Red  Quinta dos Avidagos  \n",
       "2      Pinot Gris            Rainstorm  \n",
       "3        Riesling           St. Julian  \n",
       "4      Pinot Noir         Sweet Cheeks  "
      ]
     },
     "execution_count": 2,
     "metadata": {},
     "output_type": "execute_result"
    }
   ],
   "source": [
    "reviews.head()"
   ]
  },
  {
   "cell_type": "markdown",
   "id": "5e797a8c",
   "metadata": {
    "papermill": {
     "duration": 0.004243,
     "end_time": "2022-06-25T17:43:48.869955",
     "exception": false,
     "start_time": "2022-06-25T17:43:48.865712",
     "status": "completed"
    },
    "tags": []
   },
   "source": [
    "## 1.\n",
    "`region_1` and `region_2` are pretty uninformative names for locale columns in the dataset. Create a copy of `reviews` with these columns renamed to `region` and `locale`, respectively."
   ]
  },
  {
   "cell_type": "code",
   "execution_count": 3,
   "id": "e8735ecc",
   "metadata": {
    "execution": {
     "iopub.execute_input": "2022-06-25T17:43:48.881395Z",
     "iopub.status.busy": "2022-06-25T17:43:48.880799Z",
     "iopub.status.idle": "2022-06-25T17:43:48.912445Z",
     "shell.execute_reply": "2022-06-25T17:43:48.911609Z"
    },
    "papermill": {
     "duration": 0.039766,
     "end_time": "2022-06-25T17:43:48.914363",
     "exception": false,
     "start_time": "2022-06-25T17:43:48.874597",
     "status": "completed"
    },
    "tags": []
   },
   "outputs": [
    {
     "data": {
      "application/javascript": [
       "parent.postMessage({\"jupyterEvent\": \"custom.exercise_interaction\", \"data\": {\"outcomeType\": 1, \"valueTowardsCompletion\": 0.25, \"interactionType\": 1, \"questionType\": 1, \"questionId\": \"1_RenameCols\", \"learnToolsVersion\": \"0.3.4\", \"failureMessage\": \"\", \"exceptionClass\": \"\", \"trace\": \"\"}}, \"*\")"
      ],
      "text/plain": [
       "<IPython.core.display.Javascript object>"
      ]
     },
     "metadata": {},
     "output_type": "display_data"
    },
    {
     "data": {
      "text/markdown": [
       "<span style=\"color:#33cc33\">Correct</span>"
      ],
      "text/plain": [
       "Correct"
      ]
     },
     "metadata": {},
     "output_type": "display_data"
    }
   ],
   "source": [
    "# Your code here\n",
    "renamed = reviews.rename(columns = {'region_1': 'region', 'region_2':'locale'})\n",
    "\n",
    "# Check your answer\n",
    "q1.check()"
   ]
  },
  {
   "cell_type": "code",
   "execution_count": 4,
   "id": "c3177bc0",
   "metadata": {
    "execution": {
     "iopub.execute_input": "2022-06-25T17:43:48.926402Z",
     "iopub.status.busy": "2022-06-25T17:43:48.925403Z",
     "iopub.status.idle": "2022-06-25T17:43:48.929941Z",
     "shell.execute_reply": "2022-06-25T17:43:48.928842Z"
    },
    "papermill": {
     "duration": 0.012996,
     "end_time": "2022-06-25T17:43:48.932237",
     "exception": false,
     "start_time": "2022-06-25T17:43:48.919241",
     "status": "completed"
    },
    "tags": []
   },
   "outputs": [],
   "source": [
    "#q1.hint()\n",
    "#q1.solution()"
   ]
  },
  {
   "cell_type": "markdown",
   "id": "c83f8ee8",
   "metadata": {
    "papermill": {
     "duration": 0.004642,
     "end_time": "2022-06-25T17:43:48.941758",
     "exception": false,
     "start_time": "2022-06-25T17:43:48.937116",
     "status": "completed"
    },
    "tags": []
   },
   "source": [
    "## 2.\n",
    "Set the index name in the dataset to `wines`."
   ]
  },
  {
   "cell_type": "code",
   "execution_count": 5,
   "id": "9128bd95",
   "metadata": {
    "execution": {
     "iopub.execute_input": "2022-06-25T17:43:48.953492Z",
     "iopub.status.busy": "2022-06-25T17:43:48.952869Z",
     "iopub.status.idle": "2022-06-25T17:43:48.984861Z",
     "shell.execute_reply": "2022-06-25T17:43:48.983661Z"
    },
    "papermill": {
     "duration": 0.040346,
     "end_time": "2022-06-25T17:43:48.986966",
     "exception": false,
     "start_time": "2022-06-25T17:43:48.946620",
     "status": "completed"
    },
    "tags": []
   },
   "outputs": [
    {
     "data": {
      "application/javascript": [
       "parent.postMessage({\"jupyterEvent\": \"custom.exercise_interaction\", \"data\": {\"outcomeType\": 1, \"valueTowardsCompletion\": 0.25, \"interactionType\": 1, \"questionType\": 1, \"questionId\": \"2_RenameIndex\", \"learnToolsVersion\": \"0.3.4\", \"failureMessage\": \"\", \"exceptionClass\": \"\", \"trace\": \"\"}}, \"*\")"
      ],
      "text/plain": [
       "<IPython.core.display.Javascript object>"
      ]
     },
     "metadata": {},
     "output_type": "display_data"
    },
    {
     "data": {
      "text/markdown": [
       "<span style=\"color:#33cc33\">Correct</span>"
      ],
      "text/plain": [
       "Correct"
      ]
     },
     "metadata": {},
     "output_type": "display_data"
    }
   ],
   "source": [
    "reindexed = reviews.rename_axis(\"wines\", axis = \"columns\")\n",
    "\n",
    "# Check your answer\n",
    "q2.check()"
   ]
  },
  {
   "cell_type": "code",
   "execution_count": 6,
   "id": "65b53b16",
   "metadata": {
    "execution": {
     "iopub.execute_input": "2022-06-25T17:43:48.999166Z",
     "iopub.status.busy": "2022-06-25T17:43:48.998764Z",
     "iopub.status.idle": "2022-06-25T17:43:49.002844Z",
     "shell.execute_reply": "2022-06-25T17:43:49.001832Z"
    },
    "papermill": {
     "duration": 0.012589,
     "end_time": "2022-06-25T17:43:49.004708",
     "exception": false,
     "start_time": "2022-06-25T17:43:48.992119",
     "status": "completed"
    },
    "tags": []
   },
   "outputs": [],
   "source": [
    "#q2.hint()\n",
    "#q2.solution()"
   ]
  },
  {
   "cell_type": "markdown",
   "id": "9f44bbb1",
   "metadata": {
    "papermill": {
     "duration": 0.004997,
     "end_time": "2022-06-25T17:43:49.014850",
     "exception": false,
     "start_time": "2022-06-25T17:43:49.009853",
     "status": "completed"
    },
    "tags": []
   },
   "source": [
    "## 3.\n",
    "The [Things on Reddit](https://www.kaggle.com/residentmario/things-on-reddit/data) dataset includes product links from a selection of top-ranked forums (\"subreddits\") on reddit.com. Run the cell below to load a dataframe of products mentioned on the */r/gaming* subreddit and another dataframe for products mentioned on the *r//movies* subreddit."
   ]
  },
  {
   "cell_type": "code",
   "execution_count": 7,
   "id": "c2cc0fc0",
   "metadata": {
    "execution": {
     "iopub.execute_input": "2022-06-25T17:43:49.027602Z",
     "iopub.status.busy": "2022-06-25T17:43:49.026387Z",
     "iopub.status.idle": "2022-06-25T17:43:49.041807Z",
     "shell.execute_reply": "2022-06-25T17:43:49.040890Z"
    },
    "papermill": {
     "duration": 0.024107,
     "end_time": "2022-06-25T17:43:49.044157",
     "exception": false,
     "start_time": "2022-06-25T17:43:49.020050",
     "status": "completed"
    },
    "tags": []
   },
   "outputs": [],
   "source": [
    "gaming_products = pd.read_csv(\"../input/things-on-reddit/top-things/top-things/reddits/g/gaming.csv\")\n",
    "gaming_products['subreddit'] = \"r/gaming\"\n",
    "movie_products = pd.read_csv(\"../input/things-on-reddit/top-things/top-things/reddits/m/movies.csv\")\n",
    "movie_products['subreddit'] = \"r/movies\""
   ]
  },
  {
   "cell_type": "markdown",
   "id": "737c2fbf",
   "metadata": {
    "papermill": {
     "duration": 0.004817,
     "end_time": "2022-06-25T17:43:49.054340",
     "exception": false,
     "start_time": "2022-06-25T17:43:49.049523",
     "status": "completed"
    },
    "tags": []
   },
   "source": [
    "Create a `DataFrame` of products mentioned on *either* subreddit."
   ]
  },
  {
   "cell_type": "code",
   "execution_count": 8,
   "id": "2b8bee62",
   "metadata": {
    "execution": {
     "iopub.execute_input": "2022-06-25T17:43:49.066663Z",
     "iopub.status.busy": "2022-06-25T17:43:49.065931Z",
     "iopub.status.idle": "2022-06-25T17:43:49.079820Z",
     "shell.execute_reply": "2022-06-25T17:43:49.079024Z"
    },
    "papermill": {
     "duration": 0.022191,
     "end_time": "2022-06-25T17:43:49.081730",
     "exception": false,
     "start_time": "2022-06-25T17:43:49.059539",
     "status": "completed"
    },
    "tags": []
   },
   "outputs": [
    {
     "data": {
      "application/javascript": [
       "parent.postMessage({\"jupyterEvent\": \"custom.exercise_interaction\", \"data\": {\"outcomeType\": 1, \"valueTowardsCompletion\": 0.25, \"interactionType\": 1, \"questionType\": 2, \"questionId\": \"3_ConcatReddit\", \"learnToolsVersion\": \"0.3.4\", \"failureMessage\": \"\", \"exceptionClass\": \"\", \"trace\": \"\"}}, \"*\")"
      ],
      "text/plain": [
       "<IPython.core.display.Javascript object>"
      ]
     },
     "metadata": {},
     "output_type": "display_data"
    },
    {
     "data": {
      "text/markdown": [
       "<span style=\"color:#33cc33\">Correct</span>"
      ],
      "text/plain": [
       "Correct"
      ]
     },
     "metadata": {},
     "output_type": "display_data"
    }
   ],
   "source": [
    "combined_products = pd.concat([gaming_products,movie_products])\n",
    "\n",
    "# Check your answer\n",
    "q3.check()"
   ]
  },
  {
   "cell_type": "code",
   "execution_count": 9,
   "id": "fda501f5",
   "metadata": {
    "execution": {
     "iopub.execute_input": "2022-06-25T17:43:49.094692Z",
     "iopub.status.busy": "2022-06-25T17:43:49.093574Z",
     "iopub.status.idle": "2022-06-25T17:43:49.097902Z",
     "shell.execute_reply": "2022-06-25T17:43:49.096995Z"
    },
    "papermill": {
     "duration": 0.012767,
     "end_time": "2022-06-25T17:43:49.099781",
     "exception": false,
     "start_time": "2022-06-25T17:43:49.087014",
     "status": "completed"
    },
    "tags": []
   },
   "outputs": [],
   "source": [
    "#q3.hint()\n",
    "#q3.solution()"
   ]
  },
  {
   "cell_type": "markdown",
   "id": "21e86ba5",
   "metadata": {
    "papermill": {
     "duration": 0.004981,
     "end_time": "2022-06-25T17:43:49.110110",
     "exception": false,
     "start_time": "2022-06-25T17:43:49.105129",
     "status": "completed"
    },
    "tags": []
   },
   "source": [
    "## 4.\n",
    "The [Powerlifting Database](https://www.kaggle.com/open-powerlifting/powerlifting-database) dataset on Kaggle includes one CSV table for powerlifting meets and a separate one for powerlifting competitors. Run the cell below to load these datasets into dataframes:"
   ]
  },
  {
   "cell_type": "code",
   "execution_count": 10,
   "id": "750b6d03",
   "metadata": {
    "execution": {
     "iopub.execute_input": "2022-06-25T17:43:49.123017Z",
     "iopub.status.busy": "2022-06-25T17:43:49.122212Z",
     "iopub.status.idle": "2022-06-25T17:43:49.843935Z",
     "shell.execute_reply": "2022-06-25T17:43:49.842629Z"
    },
    "papermill": {
     "duration": 0.73075,
     "end_time": "2022-06-25T17:43:49.846663",
     "exception": false,
     "start_time": "2022-06-25T17:43:49.115913",
     "status": "completed"
    },
    "tags": []
   },
   "outputs": [],
   "source": [
    "powerlifting_meets = pd.read_csv(\"../input/powerlifting-database/meets.csv\")\n",
    "powerlifting_competitors = pd.read_csv(\"../input/powerlifting-database/openpowerlifting.csv\")"
   ]
  },
  {
   "cell_type": "markdown",
   "id": "5877303f",
   "metadata": {
    "papermill": {
     "duration": 0.005102,
     "end_time": "2022-06-25T17:43:49.857198",
     "exception": false,
     "start_time": "2022-06-25T17:43:49.852096",
     "status": "completed"
    },
    "tags": []
   },
   "source": [
    "Both tables include references to a `MeetID`, a unique key for each meet (competition) included in the database. Using this, generate a dataset combining the two tables into one."
   ]
  },
  {
   "cell_type": "code",
   "execution_count": 11,
   "id": "fe9259f9",
   "metadata": {
    "execution": {
     "iopub.execute_input": "2022-06-25T17:43:49.870500Z",
     "iopub.status.busy": "2022-06-25T17:43:49.869382Z",
     "iopub.status.idle": "2022-06-25T17:43:50.729945Z",
     "shell.execute_reply": "2022-06-25T17:43:50.728784Z"
    },
    "papermill": {
     "duration": 0.869335,
     "end_time": "2022-06-25T17:43:50.732077",
     "exception": false,
     "start_time": "2022-06-25T17:43:49.862742",
     "status": "completed"
    },
    "tags": []
   },
   "outputs": [
    {
     "data": {
      "application/javascript": [
       "parent.postMessage({\"jupyterEvent\": \"custom.exercise_interaction\", \"data\": {\"outcomeType\": 1, \"valueTowardsCompletion\": 0.25, \"interactionType\": 1, \"questionType\": 2, \"questionId\": \"4_JoinLifting\", \"learnToolsVersion\": \"0.3.4\", \"failureMessage\": \"\", \"exceptionClass\": \"\", \"trace\": \"\"}}, \"*\")"
      ],
      "text/plain": [
       "<IPython.core.display.Javascript object>"
      ]
     },
     "metadata": {},
     "output_type": "display_data"
    },
    {
     "data": {
      "text/markdown": [
       "<span style=\"color:#33cc33\">Correct</span>"
      ],
      "text/plain": [
       "Correct"
      ]
     },
     "metadata": {},
     "output_type": "display_data"
    }
   ],
   "source": [
    "left = powerlifting_meets.set_index(['MeetID'])\n",
    "right = powerlifting_competitors.set_index(['MeetID'])\n",
    "powerlifting_combined = left.join(right, lsuffix = \"_meets\", rsuffix = \"_competitors\")\n",
    "\n",
    "# Check your answer\n",
    "q4.check()"
   ]
  },
  {
   "cell_type": "code",
   "execution_count": 12,
   "id": "6137b5fc",
   "metadata": {
    "execution": {
     "iopub.execute_input": "2022-06-25T17:43:50.745374Z",
     "iopub.status.busy": "2022-06-25T17:43:50.744280Z",
     "iopub.status.idle": "2022-06-25T17:43:50.748902Z",
     "shell.execute_reply": "2022-06-25T17:43:50.748150Z"
    },
    "papermill": {
     "duration": 0.013399,
     "end_time": "2022-06-25T17:43:50.750903",
     "exception": false,
     "start_time": "2022-06-25T17:43:50.737504",
     "status": "completed"
    },
    "tags": []
   },
   "outputs": [],
   "source": [
    "#q4.hint()\n",
    "#q4.solution()"
   ]
  },
  {
   "cell_type": "markdown",
   "id": "8d529a63",
   "metadata": {
    "papermill": {
     "duration": 0.005282,
     "end_time": "2022-06-25T17:43:50.761658",
     "exception": false,
     "start_time": "2022-06-25T17:43:50.756376",
     "status": "completed"
    },
    "tags": []
   },
   "source": [
    "# Congratulations!\n",
    "\n",
    "You've finished the Pandas micro-course.  Many data scientists feel efficiency with Pandas is the most useful and practical skill they have, because it allows you to progress quickly in any project you have.\n",
    "\n",
    "If you'd like to apply your new skills to examining geospatial data, you're encouraged to check out our **[Geospatial Analysis](https://www.kaggle.com/learn/geospatial-analysis)** micro-course.\n",
    "\n",
    "You can also take advantage of your Pandas skills by entering a **[Kaggle Competition](https://www.kaggle.com/competitions)** or by answering a question you find interesting using **[Kaggle Datasets](https://www.kaggle.com/datasets)**."
   ]
  },
  {
   "cell_type": "markdown",
   "id": "8bb22fbc",
   "metadata": {
    "papermill": {
     "duration": 0.004987,
     "end_time": "2022-06-25T17:43:50.772070",
     "exception": false,
     "start_time": "2022-06-25T17:43:50.767083",
     "status": "completed"
    },
    "tags": []
   },
   "source": [
    "---\n",
    "\n",
    "\n",
    "\n",
    "\n",
    "*Have questions or comments? Visit the [course discussion forum](https://www.kaggle.com/learn/pandas/discussion) to chat with other learners.*"
   ]
  }
 ],
 "metadata": {
  "kernelspec": {
   "display_name": "Python 3",
   "language": "python",
   "name": "python3"
  },
  "language_info": {
   "codemirror_mode": {
    "name": "ipython",
    "version": 3
   },
   "file_extension": ".py",
   "mimetype": "text/x-python",
   "name": "python",
   "nbconvert_exporter": "python",
   "pygments_lexer": "ipython3",
   "version": "3.7.12"
  },
  "papermill": {
   "default_parameters": {},
   "duration": 15.32249,
   "end_time": "2022-06-25T17:43:51.498824",
   "environment_variables": {},
   "exception": null,
   "input_path": "__notebook__.ipynb",
   "output_path": "__notebook__.ipynb",
   "parameters": {},
   "start_time": "2022-06-25T17:43:36.176334",
   "version": "2.3.4"
  }
 },
 "nbformat": 4,
 "nbformat_minor": 5
}
